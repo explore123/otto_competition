{
 "cells": [
  {
   "cell_type": "markdown",
   "id": "1abc4b50",
   "metadata": {
    "papermill": {
     "duration": 0.0179,
     "end_time": "2023-02-02T17:57:12.766919",
     "exception": false,
     "start_time": "2023-02-02T17:57:12.749019",
     "status": "completed"
    },
    "tags": []
   },
   "source": [
    "# About\n",
    "\n",
    "### What is done in this notebook:\n",
    "  * Creating xgboost ranker model to rank candidates gotten from covisitation matrices\n",
    "  * Calculating score on validation set\n",
    "  * Creating submission for public test set\n",
    "  \n",
    "### About data\n",
    "  * For each session in train,val,test sets, 40 candidate items (more is better) are generated using handcrafted rules and covisitation matrices \n",
    "  * For generated candidates various features are added and train, val, test sets prepared\n",
    "  * This data is saved in \"prepared-candidates-from-covisitation-mat-3\" dataset.\n",
    "  * Train set negatives are sampled so only 0.2 of data is kept\n",
    "  * Val and test data is not downsampled and is split into 10 files because of memory consumption\n",
    "\n",
    "### Thanks\n",
    "* Thanks to <a href='https://www.kaggle.com/cdeotte'>Chris</a>, <a href='https://www.kaggle.com/radek1'>Radek</a>, and others that supplied knowledge, code, comments"
   ]
  },
  {
   "cell_type": "markdown",
   "id": "51d6efce",
   "metadata": {
    "papermill": {
     "duration": 0.015464,
     "end_time": "2023-02-02T17:57:12.798279",
     "exception": false,
     "start_time": "2023-02-02T17:57:12.782815",
     "status": "completed"
    },
    "tags": []
   },
   "source": [
    "# Import "
   ]
  },
  {
   "cell_type": "code",
   "execution_count": 1,
   "id": "08f7225e",
   "metadata": {
    "execution": {
     "iopub.execute_input": "2023-02-02T17:57:12.832704Z",
     "iopub.status.busy": "2023-02-02T17:57:12.831834Z",
     "iopub.status.idle": "2023-02-02T17:57:12.842076Z",
     "shell.execute_reply": "2023-02-02T17:57:12.841237Z"
    },
    "papermill": {
     "duration": 0.030152,
     "end_time": "2023-02-02T17:57:12.844120",
     "exception": false,
     "start_time": "2023-02-02T17:57:12.813968",
     "status": "completed"
    },
    "tags": []
   },
   "outputs": [],
   "source": [
    "VER = 1"
   ]
  },
  {
   "cell_type": "code",
   "execution_count": 2,
   "id": "2c907ce5",
   "metadata": {
    "execution": {
     "iopub.execute_input": "2023-02-02T17:57:12.877113Z",
     "iopub.status.busy": "2023-02-02T17:57:12.876298Z",
     "iopub.status.idle": "2023-02-02T17:57:16.295560Z",
     "shell.execute_reply": "2023-02-02T17:57:16.294610Z"
    },
    "papermill": {
     "duration": 3.438114,
     "end_time": "2023-02-02T17:57:16.297879",
     "exception": false,
     "start_time": "2023-02-02T17:57:12.859765",
     "status": "completed"
    },
    "tags": []
   },
   "outputs": [],
   "source": [
    "import xgboost as xgb\n",
    "import datetime\n",
    "import cudf\n",
    "import glob\n",
    "import sys\n",
    "import pandas as pd\n",
    "import matplotlib.pyplot as plt\n",
    "import subprocess\n",
    "import os\n",
    "import psutil\n",
    "import numpy as np\n",
    "import gc\n",
    "import time\n",
    "import random\n",
    "from time import sleep"
   ]
  },
  {
   "cell_type": "markdown",
   "id": "954ba2aa",
   "metadata": {
    "papermill": {
     "duration": 0.015867,
     "end_time": "2023-02-02T17:57:16.329948",
     "exception": false,
     "start_time": "2023-02-02T17:57:16.314081",
     "status": "completed"
    },
    "tags": []
   },
   "source": [
    "# Config"
   ]
  },
  {
   "cell_type": "code",
   "execution_count": 3,
   "id": "b0d7548e",
   "metadata": {
    "execution": {
     "iopub.execute_input": "2023-02-02T17:57:16.363538Z",
     "iopub.status.busy": "2023-02-02T17:57:16.362698Z",
     "iopub.status.idle": "2023-02-02T17:57:16.368114Z",
     "shell.execute_reply": "2023-02-02T17:57:16.367322Z"
    },
    "papermill": {
     "duration": 0.02454,
     "end_time": "2023-02-02T17:57:16.370161",
     "exception": false,
     "start_time": "2023-02-02T17:57:16.345621",
     "status": "completed"
    },
    "tags": []
   },
   "outputs": [],
   "source": [
    "class cfg:\n",
    "    local         = False # on local machine only some testing is done (low memory)\n",
    "    seed          = 101\n",
    "    folds_num     = 5\n",
    "    # train_folds   = [0] # it is faster to check model improvement of only one fold, when possible\n",
    "    train_folds   = list(range(folds_num))\n",
    "    val_fold      = 0 # validate only on this fold\n",
    "    test_folds    = train_folds # predict using all train folds"
   ]
  },
  {
   "cell_type": "code",
   "execution_count": 4,
   "id": "0c927829",
   "metadata": {
    "execution": {
     "iopub.execute_input": "2023-02-02T17:57:16.403066Z",
     "iopub.status.busy": "2023-02-02T17:57:16.402783Z",
     "iopub.status.idle": "2023-02-02T17:57:16.408066Z",
     "shell.execute_reply": "2023-02-02T17:57:16.406918Z"
    },
    "papermill": {
     "duration": 0.023879,
     "end_time": "2023-02-02T17:57:16.410005",
     "exception": false,
     "start_time": "2023-02-02T17:57:16.386126",
     "status": "completed"
    },
    "tags": []
   },
   "outputs": [],
   "source": [
    "# On my local machine, I found it good to set resource limit to number a bit above available RAM \n",
    "\n",
    "if cfg.local:\n",
    "    import resource\n",
    "    resource.setrlimit(resource.RLIMIT_AS, (int(21*(10**9)), -1))\n",
    "    print(resource.getrlimit(resource.RLIMIT_AS)[0] / 1e9, 'GB')"
   ]
  },
  {
   "cell_type": "markdown",
   "id": "deeb5aec",
   "metadata": {
    "papermill": {
     "duration": 0.015303,
     "end_time": "2023-02-02T17:57:16.440832",
     "exception": false,
     "start_time": "2023-02-02T17:57:16.425529",
     "status": "completed"
    },
    "tags": []
   },
   "source": [
    "### Seed"
   ]
  },
  {
   "cell_type": "code",
   "execution_count": 5,
   "id": "7e0ee8d6",
   "metadata": {
    "execution": {
     "iopub.execute_input": "2023-02-02T17:57:16.473926Z",
     "iopub.status.busy": "2023-02-02T17:57:16.473141Z",
     "iopub.status.idle": "2023-02-02T17:57:16.694244Z",
     "shell.execute_reply": "2023-02-02T17:57:16.693304Z"
    },
    "papermill": {
     "duration": 0.239972,
     "end_time": "2023-02-02T17:57:16.696468",
     "exception": false,
     "start_time": "2023-02-02T17:57:16.456496",
     "status": "completed"
    },
    "tags": []
   },
   "outputs": [
    {
     "name": "stdout",
     "output_type": "stream",
     "text": [
      "Setting seed done\n"
     ]
    }
   ],
   "source": [
    "# Sets the seed of the entire notebook so results are the same every time we run. This is for REPRODUCIBILITY\n",
    "def set_seed(seed = 42):\n",
    "    os.environ['PYTHONHASHSEED'] = str(seed)\n",
    "    np.random.seed(seed)\n",
    "    random.seed(seed)\n",
    "\n",
    "    cudf.cupy.random.seed(seed)\n",
    "\n",
    "    print('Setting seed done')\n",
    "    \n",
    "set_seed(cfg.seed)"
   ]
  },
  {
   "cell_type": "markdown",
   "id": "38c2c7d2",
   "metadata": {
    "papermill": {
     "duration": 0.015699,
     "end_time": "2023-02-02T17:57:16.728434",
     "exception": false,
     "start_time": "2023-02-02T17:57:16.712735",
     "status": "completed"
    },
    "tags": []
   },
   "source": [
    "### File paths:"
   ]
  },
  {
   "cell_type": "code",
   "execution_count": 6,
   "id": "f2e1d2a5",
   "metadata": {
    "execution": {
     "iopub.execute_input": "2023-02-02T17:57:16.762547Z",
     "iopub.status.busy": "2023-02-02T17:57:16.761043Z",
     "iopub.status.idle": "2023-02-02T17:57:16.806479Z",
     "shell.execute_reply": "2023-02-02T17:57:16.805311Z"
    },
    "papermill": {
     "duration": 0.06473,
     "end_time": "2023-02-02T17:57:16.809092",
     "exception": false,
     "start_time": "2023-02-02T17:57:16.744362",
     "status": "completed"
    },
    "tags": []
   },
   "outputs": [
    {
     "name": "stdout",
     "output_type": "stream",
     "text": [
      "Train:\n",
      "1\n",
      "1\n",
      "1\n",
      "Val:\n",
      "10\n",
      "10\n",
      "10\n",
      "Test:\n",
      "10\n",
      "10\n",
      "10\n"
     ]
    }
   ],
   "source": [
    "print('Train:')\n",
    "train_candidates_files = {}\n",
    "for ev in ['clicks', 'carts', 'orders']:\n",
    "    if cfg.local:\n",
    "        train_candidates_files[ev] = glob.glob(f'./train_candidates_{ev}*')\n",
    "    else:\n",
    "        train_candidates_files[ev] = glob.glob(f'/kaggle/input/prepared-candidates-from-covisitation-mat-3/train_candidates_{ev}*')\n",
    "    print(len(train_candidates_files[ev]))\n",
    "    train_candidates_files[ev] = train_candidates_files[ev][0]\n",
    "    \n",
    "print('Val:')\n",
    "val_candidates_files = {}\n",
    "for ev in ['clicks', 'carts', 'orders']:\n",
    "    if cfg.local:\n",
    "        val_candidates_files[ev] = glob.glob(f'./val_{ev}_candidates_*')\n",
    "    else:\n",
    "        val_candidates_files[ev] = glob.glob(f'/kaggle/input/prepared-candidates-from-covisitation-mat-3/val_{ev}_candidates_*')\n",
    "    print(len(val_candidates_files[ev]))\n",
    "\n",
    "print('Test:')\n",
    "test_candidates_files = {}\n",
    "for ev in ['clicks', 'carts', 'orders']:\n",
    "    if cfg.local:\n",
    "        test_candidates_files[ev] = glob.glob(f'./test_{ev}_candidates_*')\n",
    "    else:\n",
    "        test_candidates_files[ev] = glob.glob(f'/kaggle/input/prepared-candidates-from-covisitation-mat-3/test_{ev}_candidates_df_*')\n",
    "    print(len(test_candidates_files[ev]))\n"
   ]
  },
  {
   "cell_type": "code",
   "execution_count": 7,
   "id": "ae845d98",
   "metadata": {
    "execution": {
     "iopub.execute_input": "2023-02-02T17:57:16.842964Z",
     "iopub.status.busy": "2023-02-02T17:57:16.842154Z",
     "iopub.status.idle": "2023-02-02T17:57:16.848633Z",
     "shell.execute_reply": "2023-02-02T17:57:16.847385Z"
    },
    "papermill": {
     "duration": 0.025227,
     "end_time": "2023-02-02T17:57:16.850631",
     "exception": false,
     "start_time": "2023-02-02T17:57:16.825404",
     "status": "completed"
    },
    "tags": []
   },
   "outputs": [
    {
     "name": "stdout",
     "output_type": "stream",
     "text": [
      "Folds df present\n"
     ]
    }
   ],
   "source": [
    "if cfg.local:\n",
    "    folds_path = glob.glob('./df_fold.pqt')\n",
    "else:\n",
    "    folds_path = glob.glob('/kaggle/input/prepared-candidates-from-covisitation-mat-3/df_fold.pqt')\n",
    "\n",
    "if len(folds_path) == 1:\n",
    "    folds_path = folds_path[0]\n",
    "    print('Folds df present')\n",
    "else:\n",
    "#     print('Folds missing')\n",
    "    assert False, 'Folds missing'"
   ]
  },
  {
   "cell_type": "code",
   "execution_count": 8,
   "id": "fa9db674",
   "metadata": {
    "execution": {
     "iopub.execute_input": "2023-02-02T17:57:16.883559Z",
     "iopub.status.busy": "2023-02-02T17:57:16.883003Z",
     "iopub.status.idle": "2023-02-02T17:57:16.894478Z",
     "shell.execute_reply": "2023-02-02T17:57:16.893679Z"
    },
    "papermill": {
     "duration": 0.030086,
     "end_time": "2023-02-02T17:57:16.896387",
     "exception": false,
     "start_time": "2023-02-02T17:57:16.866301",
     "status": "completed"
    },
    "tags": []
   },
   "outputs": [],
   "source": [
    "# # Last week of train set is used for training here\n",
    "\n",
    "if cfg.local:\n",
    "    train_files = glob.glob('../../../downloaded_data/split_data_local_validation/test_parquet/*')\n",
    "    train_labels_path = '../../../downloaded_data/split_data_local_validation/test_labels.parquet'\n",
    "    \n",
    "    test_files = glob.glob('../../../downloaded_data/split_data/test_parquet/*')\n",
    "else:\n",
    "    train_files = glob.glob('/kaggle/input/otto-validation/test_parquet/*')\n",
    "    train_labels_path = '/kaggle/input/otto-validation/test_labels.parquet'\n",
    "\n",
    "    test_files = glob.glob('/kaggle/input/otto-chunk-data-inparquet-format/test_parquet/*')"
   ]
  },
  {
   "cell_type": "markdown",
   "id": "25c922bf",
   "metadata": {
    "papermill": {
     "duration": 0.016036,
     "end_time": "2023-02-02T17:57:16.928225",
     "exception": false,
     "start_time": "2023-02-02T17:57:16.912189",
     "status": "completed"
    },
    "tags": []
   },
   "source": [
    "# Helper functions"
   ]
  },
  {
   "cell_type": "code",
   "execution_count": 9,
   "id": "b10dd977",
   "metadata": {
    "execution": {
     "iopub.execute_input": "2023-02-02T17:57:16.961602Z",
     "iopub.status.busy": "2023-02-02T17:57:16.960810Z",
     "iopub.status.idle": "2023-02-02T17:57:16.969320Z",
     "shell.execute_reply": "2023-02-02T17:57:16.967612Z"
    },
    "papermill": {
     "duration": 0.027232,
     "end_time": "2023-02-02T17:57:16.971350",
     "exception": false,
     "start_time": "2023-02-02T17:57:16.944118",
     "status": "completed"
    },
    "tags": []
   },
   "outputs": [],
   "source": [
    "def ts_format(ts):\n",
    "    return datetime.datetime.fromtimestamp(ts).strftime(\"%b %d %Y  %H:%M:%S\")\n",
    "def print_date_ts(ts, end='\\n'):\n",
    "    print(ts_format(ts), end=end)\n",
    "def print_date(d, end='\\n'):\n",
    "    print(d.strftime(\"%b %d %Y  %H:%M:%S\"), end=end)\n",
    "def mils_format(x):\n",
    "    return f'{x:,}'\n",
    "def len_mils(x):\n",
    "    return mils_format(len(x))\n",
    "def load_df_from_files(files_list):\n",
    "    df = cudf.DataFrame()\n",
    "    for f in files_list:\n",
    "        df = cudf.concat([df, cudf.read_parquet(f)], ignore_index=True)\n",
    "    df = df.reset_index(drop=True)\n",
    "    return df\n",
    "def preview_df(df, num_to_show=1):\n",
    "    print(len_mils(df))\n",
    "    display(df.head(num_to_show))"
   ]
  },
  {
   "cell_type": "markdown",
   "id": "aa47dafb",
   "metadata": {
    "papermill": {
     "duration": 0.015576,
     "end_time": "2023-02-02T17:57:17.003247",
     "exception": false,
     "start_time": "2023-02-02T17:57:16.987671",
     "status": "completed"
    },
    "tags": []
   },
   "source": [
    "## Track gpu memory"
   ]
  },
  {
   "cell_type": "markdown",
   "id": "56270329",
   "metadata": {
    "papermill": {
     "duration": 0.015534,
     "end_time": "2023-02-02T17:57:17.034607",
     "exception": false,
     "start_time": "2023-02-02T17:57:17.019073",
     "status": "completed"
    },
    "tags": []
   },
   "source": [
    "* This part of notebook is used only for plotting GPU memory consumption over time\n",
    "* It is not neccessary, but exploratory :)"
   ]
  },
  {
   "cell_type": "code",
   "execution_count": 10,
   "id": "41b90ce3",
   "metadata": {
    "execution": {
     "iopub.execute_input": "2023-02-02T17:57:17.067771Z",
     "iopub.status.busy": "2023-02-02T17:57:17.067180Z",
     "iopub.status.idle": "2023-02-02T17:57:17.071932Z",
     "shell.execute_reply": "2023-02-02T17:57:17.071067Z"
    },
    "papermill": {
     "duration": 0.023466,
     "end_time": "2023-02-02T17:57:17.073958",
     "exception": false,
     "start_time": "2023-02-02T17:57:17.050492",
     "status": "completed"
    },
    "tags": []
   },
   "outputs": [],
   "source": [
    "track_gpu_mem = True"
   ]
  },
  {
   "cell_type": "code",
   "execution_count": 11,
   "id": "b7ba2aff",
   "metadata": {
    "execution": {
     "iopub.execute_input": "2023-02-02T17:57:17.107295Z",
     "iopub.status.busy": "2023-02-02T17:57:17.106448Z",
     "iopub.status.idle": "2023-02-02T17:57:17.174777Z",
     "shell.execute_reply": "2023-02-02T17:57:17.173106Z"
    },
    "papermill": {
     "duration": 0.087305,
     "end_time": "2023-02-02T17:57:17.177028",
     "exception": false,
     "start_time": "2023-02-02T17:57:17.089723",
     "status": "completed"
    },
    "tags": []
   },
   "outputs": [
    {
     "name": "stdout",
     "output_type": "stream",
     "text": [
      "Nvidia GPU detected!\n"
     ]
    }
   ],
   "source": [
    "gpu_available = None\n",
    "\n",
    "try:\n",
    "    subprocess.check_output('nvidia-smi')\n",
    "    gpu_available = True\n",
    "\n",
    "    print('Nvidia GPU detected!')\n",
    "except Exception:\n",
    "    gpu_available = False\n",
    "    track_gpu_mem = False\n",
    "\n",
    "    print('No Nvidia GPU in system!')"
   ]
  },
  {
   "cell_type": "code",
   "execution_count": 12,
   "id": "86ab8633",
   "metadata": {
    "execution": {
     "iopub.execute_input": "2023-02-02T17:57:17.210953Z",
     "iopub.status.busy": "2023-02-02T17:57:17.210191Z",
     "iopub.status.idle": "2023-02-02T17:57:19.125682Z",
     "shell.execute_reply": "2023-02-02T17:57:19.124642Z"
    },
    "papermill": {
     "duration": 1.935253,
     "end_time": "2023-02-02T17:57:19.128553",
     "exception": false,
     "start_time": "2023-02-02T17:57:17.193300",
     "status": "completed"
    },
    "tags": []
   },
   "outputs": [
    {
     "name": "stdout",
     "output_type": "stream",
     "text": [
      "Free - 15805 MiB \tTotal - 16280 MiB\n"
     ]
    }
   ],
   "source": [
    "if gpu_available:\n",
    "    dev0 = cudf.cupy.cuda.Device(0)\n",
    "    def print_gpu_mem_info():\n",
    "        free_memory, total_memory = dev0.mem_info\n",
    "        print('Free -', free_memory // 1024**2, 'MiB', '\\tTotal -', total_memory // 1024**2, 'MiB')\n",
    "    print_gpu_mem_info()"
   ]
  },
  {
   "cell_type": "code",
   "execution_count": 13,
   "id": "4a384901",
   "metadata": {
    "execution": {
     "iopub.execute_input": "2023-02-02T17:57:19.164289Z",
     "iopub.status.busy": "2023-02-02T17:57:19.162550Z",
     "iopub.status.idle": "2023-02-02T17:57:19.174161Z",
     "shell.execute_reply": "2023-02-02T17:57:19.173319Z"
    },
    "papermill": {
     "duration": 0.030511,
     "end_time": "2023-02-02T17:57:19.176138",
     "exception": false,
     "start_time": "2023-02-02T17:57:19.145627",
     "status": "completed"
    },
    "tags": []
   },
   "outputs": [],
   "source": [
    "def clear_gpu_log():\n",
    "    with open('./gpu-report.csv', 'w') as file:\n",
    "        cols = [\n",
    "            'date', 'used_MiB'\n",
    "        ]\n",
    "        line = ','.join(cols) + '\\n'\n",
    "        file.write(line)\n",
    "\n",
    "def start_logging_gpu_info(every='2'):\n",
    "    log_gpu_subprocess = subprocess.Popen(\n",
    "        [\"watch\",\"-n\",every, \"./track-gpu.sh\"],\n",
    "        stdout=subprocess.PIPE\n",
    "    )\n",
    "    \n",
    "    return log_gpu_subprocess\n",
    "\n",
    "def stop_logging_gpu_info():\n",
    "    for proc in psutil.process_iter():\n",
    "        if 'watch' in proc.name() and './track-gpu.sh' in proc.cmdline():\n",
    "            proc.kill()\n",
    "\n",
    "def plot_gpu_usage(mins_to_plot=2, interval=2):\n",
    "    if not os.path.exists('./gpu-report.csv'):\n",
    "        return\n",
    "        \n",
    "    df = pd.read_csv('./gpu-report.csv')\n",
    "\n",
    "    entries_num = int(mins_to_plot * 60 // interval)\n",
    "    df = df[-entries_num:]\n",
    "    df['date'] = df.date.apply(lambda d: datetime.datetime.fromisoformat(d))\n",
    "\n",
    "    plt.figure(figsize=(12,4))\n",
    "    plt.title(f'used GPU Memory')\n",
    "    plt.plot(df.date, df['used_MiB'], color='blue')\n",
    "    plt.show()\n",
    "\n",
    "def create_file_with_logging_command():\n",
    "    with open('./track-gpu.sh', 'w') as file:\n",
    "        file.write(\n",
    "            'values=$(nvidia-smi | sed -n \\'10p\\' | awk \\'{print $9}\\' | sed -nz \\'s/MiB\\\\n//gp\\'); echo $(date +%Y-%m-%d#%H:%M:%S),$(($values)) >> ' + f'{os.getcwd()}/gpu-report.csv'\n",
    "        )\n",
    "\n",
    "def run_logging_file():\n",
    "    subprocess.run(\n",
    "        [f'{os.getcwd()}/track-gpu.sh'],\n",
    "        shell=True\n",
    "    )\n",
    "\n",
    "def allow_logging_file_execution():\n",
    "    os.system('chmod a+x ./track-gpu.sh')"
   ]
  },
  {
   "cell_type": "code",
   "execution_count": 14,
   "id": "5254bc77",
   "metadata": {
    "execution": {
     "iopub.execute_input": "2023-02-02T17:57:19.210108Z",
     "iopub.status.busy": "2023-02-02T17:57:19.209152Z",
     "iopub.status.idle": "2023-02-02T17:57:19.342970Z",
     "shell.execute_reply": "2023-02-02T17:57:19.341331Z"
    },
    "papermill": {
     "duration": 0.154665,
     "end_time": "2023-02-02T17:57:19.346929",
     "exception": false,
     "start_time": "2023-02-02T17:57:19.192264",
     "status": "completed"
    },
    "tags": []
   },
   "outputs": [],
   "source": [
    "if track_gpu_mem:\n",
    "    create_file_with_logging_command()\n",
    "    allow_logging_file_execution()\n",
    "\n",
    "    stop_logging_gpu_info()\n",
    "    clear_gpu_log()\n",
    "    run_logging_file() # to add one memory value\n",
    "    \n",
    "    watch_process = start_logging_gpu_info()\n",
    "    \n",
    "    df = pd.read_csv('./gpu-report.csv')\n",
    "    df.tail()"
   ]
  },
  {
   "cell_type": "code",
   "execution_count": 15,
   "id": "e38cb7b8",
   "metadata": {
    "execution": {
     "iopub.execute_input": "2023-02-02T17:57:19.410182Z",
     "iopub.status.busy": "2023-02-02T17:57:19.409834Z",
     "iopub.status.idle": "2023-02-02T17:57:21.711332Z",
     "shell.execute_reply": "2023-02-02T17:57:21.710402Z"
    },
    "papermill": {
     "duration": 2.333478,
     "end_time": "2023-02-02T17:57:21.713420",
     "exception": false,
     "start_time": "2023-02-02T17:57:19.379942",
     "status": "completed"
    },
    "tags": []
   },
   "outputs": [
    {
     "data": {
      "image/png": "[encoded data removed]",
      "text/plain": [
       "<Figure size 864x288 with 1 Axes>"
      ]
     },
     "metadata": {
      "needs_background": "light"
     },
     "output_type": "display_data"
    }
   ],
   "source": [
    "if track_gpu_mem:\n",
    "    sleep(2)\n",
    "    plot_gpu_usage()"
   ]
  },
  {
   "cell_type": "markdown",
   "id": "10fd892e",
   "metadata": {
    "papermill": {
     "duration": 0.016323,
     "end_time": "2023-02-02T17:57:21.746288",
     "exception": false,
     "start_time": "2023-02-02T17:57:21.729965",
     "status": "completed"
    },
    "tags": []
   },
   "source": [
    "# Load data"
   ]
  },
  {
   "cell_type": "markdown",
   "id": "2eb11c47",
   "metadata": {
    "papermill": {
     "duration": 0.017682,
     "end_time": "2023-02-02T17:57:21.781573",
     "exception": false,
     "start_time": "2023-02-02T17:57:21.763891",
     "status": "completed"
    },
    "tags": []
   },
   "source": [
    "### Load train data"
   ]
  },
  {
   "cell_type": "code",
   "execution_count": 16,
   "id": "415aefe9",
   "metadata": {
    "execution": {
     "iopub.execute_input": "2023-02-02T17:57:21.817571Z",
     "iopub.status.busy": "2023-02-02T17:57:21.816823Z",
     "iopub.status.idle": "2023-02-02T17:57:21.838605Z",
     "shell.execute_reply": "2023-02-02T17:57:21.837697Z"
    },
    "papermill": {
     "duration": 0.041875,
     "end_time": "2023-02-02T17:57:21.840700",
     "exception": false,
     "start_time": "2023-02-02T17:57:21.798825",
     "status": "completed"
    },
    "tags": []
   },
   "outputs": [],
   "source": [
    "type2id_df = cudf.DataFrame({'type': ['clicks', 'carts', 'orders'], 'type_id': [0,1,2]})\n",
    "type2id_df.type_id = type2id_df.type_id.astype('int8')\n",
    "\n",
    "def read_transform_file(f):\n",
    "    df = cudf.read_parquet(f)\n",
    "    df.ts = (df.ts/1000).astype('int32')\n",
    "    df = cudf.merge(df, type2id_df, on='type', how='inner').drop('type', axis=1).rename(columns={'type_id': 'type'})\n",
    "    return df\n",
    "def load_train_week():\n",
    "    train = cudf.DataFrame()\n",
    "    for f in train_files:\n",
    "        train = cudf.concat([train, read_transform_file(f)], ignore_index=True)\n",
    "\n",
    "    train = train.reset_index(drop=True)\n",
    "    return train"
   ]
  },
  {
   "cell_type": "code",
   "execution_count": 17,
   "id": "343b4218",
   "metadata": {
    "execution": {
     "iopub.execute_input": "2023-02-02T17:57:21.874305Z",
     "iopub.status.busy": "2023-02-02T17:57:21.874017Z",
     "iopub.status.idle": "2023-02-02T17:57:25.091307Z",
     "shell.execute_reply": "2023-02-02T17:57:25.089918Z"
    },
    "papermill": {
     "duration": 3.237025,
     "end_time": "2023-02-02T17:57:25.093840",
     "exception": false,
     "start_time": "2023-02-02T17:57:21.856815",
     "status": "completed"
    },
    "tags": []
   },
   "outputs": [
    {
     "name": "stdout",
     "output_type": "stream",
     "text": [
      "7,683,577\n"
     ]
    },
    {
     "data": {
      "text/html": [
       "<div>\n",
       "<style scoped>\n",
       "    .dataframe tbody tr th:only-of-type {\n",
       "        vertical-align: middle;\n",
       "    }\n",
       "\n",
       "    .dataframe tbody tr th {\n",
       "        vertical-align: top;\n",
       "    }\n",
       "\n",
       "    .dataframe thead th {\n",
       "        text-align: right;\n",
       "    }\n",
       "</style>\n",
       "<table border=\"1\" class=\"dataframe\">\n",
       "  <thead>\n",
       "    <tr style=\"text-align: right;\">\n",
       "      <th></th>\n",
       "      <th>session</th>\n",
       "      <th>aid</th>\n",
       "      <th>ts</th>\n",
       "      <th>type</th>\n",
       "    </tr>\n",
       "  </thead>\n",
       "  <tbody>\n",
       "    <tr>\n",
       "      <th>0</th>\n",
       "      <td>12090055</td>\n",
       "      <td>1186096</td>\n",
       "      <td>1661448257</td>\n",
       "      <td>0</td>\n",
       "    </tr>\n",
       "  </tbody>\n",
       "</table>\n",
       "</div>"
      ],
      "text/plain": [
       "    session      aid          ts  type\n",
       "0  12090055  1186096  1661448257     0"
      ]
     },
     "metadata": {},
     "output_type": "display_data"
    }
   ],
   "source": [
    "train = load_train_week()\n",
    "preview_df(train)"
   ]
  },
  {
   "cell_type": "code",
   "execution_count": 18,
   "id": "61231e22",
   "metadata": {
    "execution": {
     "iopub.execute_input": "2023-02-02T17:57:25.148027Z",
     "iopub.status.busy": "2023-02-02T17:57:25.147674Z",
     "iopub.status.idle": "2023-02-02T17:57:25.157991Z",
     "shell.execute_reply": "2023-02-02T17:57:25.157091Z"
    },
    "papermill": {
     "duration": 0.04067,
     "end_time": "2023-02-02T17:57:25.161889",
     "exception": false,
     "start_time": "2023-02-02T17:57:25.121219",
     "status": "completed"
    },
    "tags": []
   },
   "outputs": [
    {
     "name": "stdout",
     "output_type": "stream",
     "text": [
      "Aug 21 2022  22:00:00\n",
      "Aug 28 2022  21:59:56\n"
     ]
    }
   ],
   "source": [
    "print_date_ts(train['ts'].min())\n",
    "print_date_ts(train['ts'].max())"
   ]
  },
  {
   "cell_type": "markdown",
   "id": "93f788ed",
   "metadata": {
    "papermill": {
     "duration": 0.024682,
     "end_time": "2023-02-02T17:57:25.211927",
     "exception": false,
     "start_time": "2023-02-02T17:57:25.187245",
     "status": "completed"
    },
    "tags": []
   },
   "source": [
    "### Load train labels"
   ]
  },
  {
   "cell_type": "markdown",
   "id": "a8cc8d6b",
   "metadata": {
    "papermill": {
     "duration": 0.017936,
     "end_time": "2023-02-02T17:57:25.256515",
     "exception": false,
     "start_time": "2023-02-02T17:57:25.238579",
     "status": "completed"
    },
    "tags": []
   },
   "source": [
    "* Train labels consist of (session,aid_list) pairs that did happen in session continuation"
   ]
  },
  {
   "cell_type": "code",
   "execution_count": 19,
   "id": "9cf533d0",
   "metadata": {
    "execution": {
     "iopub.execute_input": "2023-02-02T17:57:25.292312Z",
     "iopub.status.busy": "2023-02-02T17:57:25.291962Z",
     "iopub.status.idle": "2023-02-02T17:57:25.299406Z",
     "shell.execute_reply": "2023-02-02T17:57:25.298401Z"
    },
    "papermill": {
     "duration": 0.027818,
     "end_time": "2023-02-02T17:57:25.301461",
     "exception": false,
     "start_time": "2023-02-02T17:57:25.273643",
     "status": "completed"
    },
    "tags": []
   },
   "outputs": [],
   "source": [
    "def load_train_week_labels(do_print=False):\n",
    "    train_labels = cudf.read_parquet(train_labels_path)\n",
    "\n",
    "    if do_print:\n",
    "        print(train_labels.shape)\n",
    "        preview_df(train_labels)\n",
    "\n",
    "    # Change ground_truth from \"aid in list\" to \"one aid per row\" -> (session, type) pairs will now be repeated where len(ground_truth) was >=2\n",
    "    train_labels = cudf.merge(train_labels, type2id_df, on='type', how='inner').drop('type', axis=1).rename(columns={'type_id': 'type'})\n",
    "    train_labels = train_labels.explode('ground_truth').rename(columns={'ground_truth': 'aid'})[['session', 'type', 'aid']]\n",
    "    train_labels = train_labels.astype({\n",
    "        'session': 'int32',\n",
    "        'aid': 'int32',\n",
    "        'type': 'int8',\n",
    "    })\n",
    "\n",
    "    if do_print:\n",
    "        print(train_labels.shape)\n",
    "        preview_df(train_labels)\n",
    "\n",
    "    # * Add columns ground_truth - gt that marks all pairs as 1, that is they happened\n",
    "    train_labels['gt'] = 1\n",
    "    train_labels['gt'] = train_labels['gt'].astype('int8')\n",
    "    train_labels.dtypes\n",
    "\n",
    "    return train_labels"
   ]
  },
  {
   "cell_type": "code",
   "execution_count": 20,
   "id": "e8b47cc8",
   "metadata": {
    "execution": {
     "iopub.execute_input": "2023-02-02T17:57:25.336151Z",
     "iopub.status.busy": "2023-02-02T17:57:25.335883Z",
     "iopub.status.idle": "2023-02-02T17:57:27.154846Z",
     "shell.execute_reply": "2023-02-02T17:57:27.153815Z"
    },
    "papermill": {
     "duration": 1.839173,
     "end_time": "2023-02-02T17:57:27.157645",
     "exception": false,
     "start_time": "2023-02-02T17:57:25.318472",
     "status": "completed"
    },
    "tags": []
   },
   "outputs": [
    {
     "name": "stdout",
     "output_type": "stream",
     "text": [
      "(2212692, 3)\n",
      "2,212,692\n"
     ]
    },
    {
     "data": {
      "text/html": [
       "<div>\n",
       "<style scoped>\n",
       "    .dataframe tbody tr th:only-of-type {\n",
       "        vertical-align: middle;\n",
       "    }\n",
       "\n",
       "    .dataframe tbody tr th {\n",
       "        vertical-align: top;\n",
       "    }\n",
       "\n",
       "    .dataframe thead th {\n",
       "        text-align: right;\n",
       "    }\n",
       "</style>\n",
       "<table border=\"1\" class=\"dataframe\">\n",
       "  <thead>\n",
       "    <tr style=\"text-align: right;\">\n",
       "      <th></th>\n",
       "      <th>session</th>\n",
       "      <th>type</th>\n",
       "      <th>ground_truth</th>\n",
       "    </tr>\n",
       "  </thead>\n",
       "  <tbody>\n",
       "    <tr>\n",
       "      <th>0</th>\n",
       "      <td>11098528</td>\n",
       "      <td>clicks</td>\n",
       "      <td>[1679529]</td>\n",
       "    </tr>\n",
       "  </tbody>\n",
       "</table>\n",
       "</div>"
      ],
      "text/plain": [
       "    session    type ground_truth\n",
       "0  11098528  clicks    [1679529]"
      ]
     },
     "metadata": {},
     "output_type": "display_data"
    },
    {
     "name": "stdout",
     "output_type": "stream",
     "text": [
      "(2650372, 3)\n",
      "2,650,372\n"
     ]
    },
    {
     "data": {
      "text/html": [
       "<div>\n",
       "<style scoped>\n",
       "    .dataframe tbody tr th:only-of-type {\n",
       "        vertical-align: middle;\n",
       "    }\n",
       "\n",
       "    .dataframe tbody tr th {\n",
       "        vertical-align: top;\n",
       "    }\n",
       "\n",
       "    .dataframe thead th {\n",
       "        text-align: right;\n",
       "    }\n",
       "</style>\n",
       "<table border=\"1\" class=\"dataframe\">\n",
       "  <thead>\n",
       "    <tr style=\"text-align: right;\">\n",
       "      <th></th>\n",
       "      <th>session</th>\n",
       "      <th>type</th>\n",
       "      <th>aid</th>\n",
       "    </tr>\n",
       "  </thead>\n",
       "  <tbody>\n",
       "    <tr>\n",
       "      <th>0</th>\n",
       "      <td>11118728</td>\n",
       "      <td>2</td>\n",
       "      <td>192760</td>\n",
       "    </tr>\n",
       "  </tbody>\n",
       "</table>\n",
       "</div>"
      ],
      "text/plain": [
       "    session  type     aid\n",
       "0  11118728     2  192760"
      ]
     },
     "metadata": {},
     "output_type": "display_data"
    }
   ],
   "source": [
    "train_labels = load_train_week_labels(do_print=True)"
   ]
  },
  {
   "cell_type": "markdown",
   "id": "33091b2c",
   "metadata": {
    "papermill": {
     "duration": 0.016691,
     "end_time": "2023-02-02T17:57:27.191781",
     "exception": false,
     "start_time": "2023-02-02T17:57:27.175090",
     "status": "completed"
    },
    "tags": []
   },
   "source": [
    "### Load train candidates function"
   ]
  },
  {
   "cell_type": "code",
   "execution_count": 21,
   "id": "32ed53df",
   "metadata": {
    "execution": {
     "iopub.execute_input": "2023-02-02T17:57:27.226805Z",
     "iopub.status.busy": "2023-02-02T17:57:27.226486Z",
     "iopub.status.idle": "2023-02-02T17:57:27.231011Z",
     "shell.execute_reply": "2023-02-02T17:57:27.229978Z"
    },
    "papermill": {
     "duration": 0.024549,
     "end_time": "2023-02-02T17:57:27.233279",
     "exception": false,
     "start_time": "2023-02-02T17:57:27.208730",
     "status": "completed"
    },
    "tags": []
   },
   "outputs": [],
   "source": [
    "def get_train_df(event):\n",
    "    candidates_df = cudf.read_parquet(train_candidates_files[event])\n",
    "    \n",
    "    return candidates_df"
   ]
  },
  {
   "cell_type": "markdown",
   "id": "0ce4d2b7",
   "metadata": {
    "papermill": {
     "duration": 0.016449,
     "end_time": "2023-02-02T17:57:27.266270",
     "exception": false,
     "start_time": "2023-02-02T17:57:27.249821",
     "status": "completed"
    },
    "tags": []
   },
   "source": [
    "### Load folds"
   ]
  },
  {
   "cell_type": "code",
   "execution_count": 22,
   "id": "6ee1d036",
   "metadata": {
    "execution": {
     "iopub.execute_input": "2023-02-02T17:57:27.301507Z",
     "iopub.status.busy": "2023-02-02T17:57:27.301140Z",
     "iopub.status.idle": "2023-02-02T17:57:27.444954Z",
     "shell.execute_reply": "2023-02-02T17:57:27.443980Z"
    },
    "papermill": {
     "duration": 0.164176,
     "end_time": "2023-02-02T17:57:27.447135",
     "exception": false,
     "start_time": "2023-02-02T17:57:27.282959",
     "status": "completed"
    },
    "tags": []
   },
   "outputs": [
    {
     "data": {
      "text/html": [
       "<div>\n",
       "<style scoped>\n",
       "    .dataframe tbody tr th:only-of-type {\n",
       "        vertical-align: middle;\n",
       "    }\n",
       "\n",
       "    .dataframe tbody tr th {\n",
       "        vertical-align: top;\n",
       "    }\n",
       "\n",
       "    .dataframe thead th {\n",
       "        text-align: right;\n",
       "    }\n",
       "</style>\n",
       "<table border=\"1\" class=\"dataframe\">\n",
       "  <thead>\n",
       "    <tr style=\"text-align: right;\">\n",
       "      <th></th>\n",
       "      <th>session</th>\n",
       "      <th>fold</th>\n",
       "    </tr>\n",
       "  </thead>\n",
       "  <tbody>\n",
       "    <tr>\n",
       "      <th>0</th>\n",
       "      <td>11098528</td>\n",
       "      <td>1</td>\n",
       "    </tr>\n",
       "    <tr>\n",
       "      <th>1</th>\n",
       "      <td>11098529</td>\n",
       "      <td>2</td>\n",
       "    </tr>\n",
       "  </tbody>\n",
       "</table>\n",
       "</div>"
      ],
      "text/plain": [
       "    session  fold\n",
       "0  11098528     1\n",
       "1  11098529     2"
      ]
     },
     "execution_count": 22,
     "metadata": {},
     "output_type": "execute_result"
    }
   ],
   "source": [
    "df_fold = cudf.read_parquet(folds_path)\n",
    "df_fold.head(2)"
   ]
  },
  {
   "cell_type": "markdown",
   "id": "fef36ba7",
   "metadata": {
    "papermill": {
     "duration": 0.018697,
     "end_time": "2023-02-02T17:57:27.484999",
     "exception": false,
     "start_time": "2023-02-02T17:57:27.466302",
     "status": "completed"
    },
    "tags": []
   },
   "source": [
    "# Calc model val score"
   ]
  },
  {
   "cell_type": "code",
   "execution_count": 23,
   "id": "7f478f0e",
   "metadata": {
    "execution": {
     "iopub.execute_input": "2023-02-02T17:57:27.523979Z",
     "iopub.status.busy": "2023-02-02T17:57:27.523079Z",
     "iopub.status.idle": "2023-02-02T17:57:27.529828Z",
     "shell.execute_reply": "2023-02-02T17:57:27.528782Z"
    },
    "papermill": {
     "duration": 0.028616,
     "end_time": "2023-02-02T17:57:27.532043",
     "exception": false,
     "start_time": "2023-02-02T17:57:27.503427",
     "status": "completed"
    },
    "tags": []
   },
   "outputs": [],
   "source": [
    "def get_val_data(event):\n",
    "    val_data = cudf.DataFrame()\n",
    "    for f in val_candidates_files[event]:\n",
    "        val_data = cudf.concat([val_data, cudf.read_parquet(f).sort_values('session')], ignore_index=True)\n",
    "    val_data = val_data.reset_index(drop=True)\n",
    "    val_data['session'] = val_data['session'].astype('int32')\n",
    "    val_data['aid'] = val_data['aid'].astype('int32')\n",
    "    return val_data"
   ]
  },
  {
   "cell_type": "code",
   "execution_count": 24,
   "id": "a067d913",
   "metadata": {
    "execution": {
     "iopub.execute_input": "2023-02-02T17:57:27.570944Z",
     "iopub.status.busy": "2023-02-02T17:57:27.570653Z",
     "iopub.status.idle": "2023-02-02T17:57:27.589072Z",
     "shell.execute_reply": "2023-02-02T17:57:27.588069Z"
    },
    "papermill": {
     "duration": 0.040681,
     "end_time": "2023-02-02T17:57:27.591491",
     "exception": false,
     "start_time": "2023-02-02T17:57:27.550810",
     "status": "completed"
    },
    "tags": []
   },
   "outputs": [],
   "source": [
    "def calc_event_recall(ev_preds_df, event_name, clip_amount=20):\n",
    "    sub = ev_preds_df\n",
    "    sub['session'] = sub.session_type.apply(lambda x: int(x.split('_')[0]))\n",
    "    # sub.labels = sub.labels.apply(lambda x: x[:clip_amount])\n",
    "    sub.labels = sub.labels.apply(lambda x: x[:clip_amount])\n",
    "\n",
    "    val_labels = pd.read_parquet(train_labels_path)\n",
    "    val_labels = val_labels.loc[val_labels['type']==event_name]\n",
    "\n",
    "    val_labels = pd.merge(val_labels, df_fold.to_pandas(), on='session')\n",
    "    val_labels = val_labels.loc[val_labels.fold == cfg.val_fold]\n",
    "    del val_labels['fold']\n",
    "\n",
    "    val_labels = val_labels.merge(sub, how='left', on=['session'])\n",
    "\n",
    "    val_labels['hits'] = val_labels.apply(lambda df: len(set(df.ground_truth).intersection(set(df.labels))), axis=1)\n",
    "\n",
    "    val_labels['gt_count'] = val_labels.ground_truth.str.len().clip(0, clip_amount)\n",
    "\n",
    "    recall = val_labels['hits'].sum() / val_labels['gt_count'].sum()\n",
    "    print(f'{event_name} recall =',recall)\n",
    "\n",
    "    return recall\n",
    "def calc_val_score(event_name, clip_amount=20):\n",
    "    # events_names = ['clicks', 'carts', 'orders']\n",
    "    events_names = [event_name]\n",
    "\n",
    "    preds = {}\n",
    "    for event_name in events_names:\n",
    "        print(event_name)\n",
    "        \n",
    "        model = xgb.Booster()\n",
    "        model.load_model(f'XGB_fold{valid_fold_num}_{event_name}.xgb')\n",
    "        model.set_param({'predictor': 'gpu_predictor'})\n",
    "        \n",
    "        preds[event_name] = []\n",
    "        for i,f in enumerate(val_candidates_files[event_name]):\n",
    "            print(i, end=' ')\n",
    "\n",
    "            val_candidates = cudf.read_parquet(f)\n",
    "            val_candidates = val_candidates.sort_values('session')\n",
    "            \n",
    "            groups = val_candidates.groupby('session').size().to_frame('size')['size']\n",
    "            dtest = xgb.DMatrix(data=val_candidates[feature_cols[event_name]], group=groups)\n",
    "            \n",
    "            preds[event_name].append(model.predict(dtest))\n",
    "            del dtest, val_candidates\n",
    "        \n",
    "        preds[event_name] = np.concatenate(preds[event_name], axis=None)\n",
    "        np.save(f'val_preds_{event_name}.npy', preds[event_name])\n",
    "        print()\n",
    "\n",
    "    predictions = {}\n",
    "    sub = {}\n",
    "    predictions[event_name] = get_val_data(event_name)[['session','aid']]\n",
    "\n",
    "    predictions[event_name]['pred'] = preds[event_name]\n",
    "\n",
    "    # Pick top 20 predictions:\n",
    "    predictions[event_name] = predictions[event_name].sort_values(['session','pred'], ascending=[True,False]).reset_index(drop=True)\n",
    "    predictions[event_name]['n'] = predictions[event_name].groupby('session').aid.cumcount().astype('int8')\n",
    "    predictions[event_name] = predictions[event_name].loc[predictions[event_name].n<clip_amount]\n",
    "    del predictions[event_name]['pred']\n",
    "    del predictions[event_name]['n']\n",
    "\n",
    "    # Transform (session,aid) pairs to (session,string of all aids) pairs\n",
    "    predictions[event_name] = predictions[event_name].to_pandas() # it was faster to do next functions in pandas then in cudf\n",
    "    sub[event_name] = predictions[event_name].groupby('session').aid.apply(list)\n",
    "    del predictions[event_name]\n",
    "\n",
    "    sub[event_name] = sub[event_name].to_frame().reset_index()\n",
    "    to_add_str = '_' + event_name\n",
    "    sub[event_name]['session'] = sub[event_name].session.astype('str') + to_add_str\n",
    "\n",
    "    sub[event_name].columns = ['session_type', 'labels']\n",
    "\n",
    "    return calc_event_recall(sub[event_name], event_name, clip_amount)"
   ]
  },
  {
   "cell_type": "markdown",
   "id": "f56b0db0",
   "metadata": {
    "papermill": {
     "duration": 0.030511,
     "end_time": "2023-02-02T17:57:27.655072",
     "exception": false,
     "start_time": "2023-02-02T17:57:27.624561",
     "status": "completed"
    },
    "tags": []
   },
   "source": [
    "# Model config"
   ]
  },
  {
   "cell_type": "code",
   "execution_count": 25,
   "id": "8e6ba5e8",
   "metadata": {
    "execution": {
     "iopub.execute_input": "2023-02-02T17:57:27.693386Z",
     "iopub.status.busy": "2023-02-02T17:57:27.693048Z",
     "iopub.status.idle": "2023-02-02T17:57:27.698840Z",
     "shell.execute_reply": "2023-02-02T17:57:27.697864Z"
    },
    "papermill": {
     "duration": 0.025657,
     "end_time": "2023-02-02T17:57:27.701040",
     "exception": false,
     "start_time": "2023-02-02T17:57:27.675383",
     "status": "completed"
    },
    "tags": []
   },
   "outputs": [],
   "source": [
    "def get_feature_cols(df, event_name):\n",
    "    feature_cols = list(df.columns)\n",
    "    \n",
    "    remove_cols = [\n",
    "        'session', 'aid', 'gt', 'fold',\n",
    "    ]\n",
    "    \n",
    "    for col in remove_cols:\n",
    "        if col in feature_cols:\n",
    "            feature_cols.remove(col)\n",
    "    \n",
    "    return feature_cols\n",
    "def get_target_cols():\n",
    "    return ['gt']\n",
    "def get_qid_cols():\n",
    "    return ['session']"
   ]
  },
  {
   "cell_type": "code",
   "execution_count": 26,
   "id": "bf24b1a2",
   "metadata": {
    "execution": {
     "iopub.execute_input": "2023-02-02T17:57:27.736399Z",
     "iopub.status.busy": "2023-02-02T17:57:27.736095Z",
     "iopub.status.idle": "2023-02-02T17:57:27.740572Z",
     "shell.execute_reply": "2023-02-02T17:57:27.739520Z"
    },
    "papermill": {
     "duration": 0.024633,
     "end_time": "2023-02-02T17:57:27.742930",
     "exception": false,
     "start_time": "2023-02-02T17:57:27.718297",
     "status": "completed"
    },
    "tags": []
   },
   "outputs": [],
   "source": [
    "feature_cols = {}"
   ]
  },
  {
   "cell_type": "code",
   "execution_count": 27,
   "id": "2ef4f7d5",
   "metadata": {
    "execution": {
     "iopub.execute_input": "2023-02-02T17:57:27.784033Z",
     "iopub.status.busy": "2023-02-02T17:57:27.783727Z",
     "iopub.status.idle": "2023-02-02T17:57:27.789304Z",
     "shell.execute_reply": "2023-02-02T17:57:27.788233Z"
    },
    "papermill": {
     "duration": 0.028807,
     "end_time": "2023-02-02T17:57:27.791655",
     "exception": false,
     "start_time": "2023-02-02T17:57:27.762848",
     "status": "completed"
    },
    "tags": []
   },
   "outputs": [],
   "source": [
    "xgb_parms = {\n",
    "    'objective':'rank:pairwise', \n",
    "    'tree_method':'gpu_hist', \n",
    "    'seed': cfg.seed, \n",
    "    'random_state': cfg.seed,\n",
    "    'max_depth': 6,\n",
    "    'min_child_weight': 100,\n",
    "    'eta': 0.1,\n",
    "    'gamma': 25.0,\n",
    "    'learning_rate': 0.2,\n",
    "    'colsample_bytree': 0.75,\n",
    "    'subsample': 0.9,\n",
    "    'eval_metric': 'ndcg',\n",
    "}"
   ]
  },
  {
   "cell_type": "markdown",
   "id": "b5b24abd",
   "metadata": {
    "papermill": {
     "duration": 0.021111,
     "end_time": "2023-02-02T17:57:27.834251",
     "exception": false,
     "start_time": "2023-02-02T17:57:27.813140",
     "status": "completed"
    },
    "tags": []
   },
   "source": [
    "# Clicks"
   ]
  },
  {
   "cell_type": "code",
   "execution_count": 28,
   "id": "a78bd45f",
   "metadata": {
    "execution": {
     "iopub.execute_input": "2023-02-02T17:57:27.877633Z",
     "iopub.status.busy": "2023-02-02T17:57:27.877267Z",
     "iopub.status.idle": "2023-02-02T17:57:27.882157Z",
     "shell.execute_reply": "2023-02-02T17:57:27.881312Z"
    },
    "papermill": {
     "duration": 0.030527,
     "end_time": "2023-02-02T17:57:27.885696",
     "exception": false,
     "start_time": "2023-02-02T17:57:27.855169",
     "status": "completed"
    },
    "tags": []
   },
   "outputs": [
    {
     "name": "stdout",
     "output_type": "stream",
     "text": [
      "Free - 15641 MiB \tTotal - 16280 MiB\n"
     ]
    }
   ],
   "source": [
    "print_gpu_mem_info()"
   ]
  },
  {
   "cell_type": "code",
   "execution_count": 29,
   "id": "03d0bd31",
   "metadata": {
    "execution": {
     "iopub.execute_input": "2023-02-02T17:57:27.923547Z",
     "iopub.status.busy": "2023-02-02T17:57:27.923210Z",
     "iopub.status.idle": "2023-02-02T17:57:34.768173Z",
     "shell.execute_reply": "2023-02-02T17:57:34.767080Z"
    },
    "papermill": {
     "duration": 6.865646,
     "end_time": "2023-02-02T17:57:34.770591",
     "exception": false,
     "start_time": "2023-02-02T17:57:27.904945",
     "status": "completed"
    },
    "tags": []
   },
   "outputs": [
    {
     "name": "stdout",
     "output_type": "stream",
     "text": [
      "(17736650, 21)\n",
      "7\n",
      "['type', 'clicks_final_wgt', 'clicks_similarity_wgt', 'num_clicks_last_2_hours', 'num_carts_last_2_hours', 'num_orders_last_2_hours', 'session_length']\n"
     ]
    }
   ],
   "source": [
    "train_clicks = get_train_df('clicks')\n",
    "\n",
    "train_clicks = cudf.merge(\n",
    "    train_clicks, train_labels.loc[train_labels.type==0][['session', 'aid', 'gt']], \n",
    "    how='left', on=['session', 'aid'])\n",
    "\n",
    "train_clicks['gt'] = train_clicks['gt'].fillna(0)\n",
    "print(train_clicks.shape)\n",
    "\n",
    "train_clicks = cudf.merge(train_clicks, df_fold, on='session', how='left')\n",
    "\n",
    "# Delete all cols that do not improve score\n",
    "del_cols = [\n",
    "#         'type', \n",
    "    'ts_max', \n",
    "    'ts_min', \n",
    "    'ts_mean', \n",
    "    'ts_med',\n",
    "    'ts_duration', \n",
    "#     'session_clicks',\n",
    "    'session_carts', \n",
    "    'session_orders', \n",
    "#     'session_length',\n",
    "    'repetitions',\n",
    "    'aid_num_log', \n",
    "    'aid_clicks_num_log', \n",
    "    'aid_carts_num_log', \n",
    "    'aid_orders_num_log', \n",
    "    'aid_clicks_num_ps_log', \n",
    "    'aid_carts_num_ps_log',\n",
    "    'aid_orders_num_ps_log',\n",
    "#     'num_clicks_last_2_hours', \n",
    "#     'num_carts_last_2_hours',\n",
    "#     'num_orders_last_2_hours', \n",
    "    'cart_order_diff_last_2_hours',\n",
    "    'clicks_in_day_1',\n",
    "    'clicks_in_day_2',\n",
    "    'clicks_in_day_3',\n",
    "    'type_mean'\n",
    "]\n",
    "for col in del_cols:\n",
    "    if col in train_clicks.columns:\n",
    "        del train_clicks[col]\n",
    "\n",
    "feature_cols['clicks'] = get_feature_cols(train_clicks, 'clicks')\n",
    "print(len(feature_cols['clicks']))\n",
    "print(feature_cols['clicks'])"
   ]
  },
  {
   "cell_type": "code",
   "execution_count": 30,
   "id": "1ff113e0",
   "metadata": {
    "execution": {
     "iopub.execute_input": "2023-02-02T17:57:34.806390Z",
     "iopub.status.busy": "2023-02-02T17:57:34.806056Z",
     "iopub.status.idle": "2023-02-02T17:59:05.779570Z",
     "shell.execute_reply": "2023-02-02T17:59:05.778653Z"
    },
    "papermill": {
     "duration": 90.993747,
     "end_time": "2023-02-02T17:59:05.781700",
     "exception": false,
     "start_time": "2023-02-02T17:57:34.787953",
     "status": "completed"
    },
    "tags": []
   },
   "outputs": [
    {
     "name": "stdout",
     "output_type": "stream",
     "text": [
      "Fold 0\n"
     ]
    },
    {
     "name": "stderr",
     "output_type": "stream",
     "text": [
      "/opt/conda/lib/python3.7/site-packages/cudf/core/frame.py:2600: UserWarning: When using a sequence of booleans for `ascending`, `na_position` flag is not yet supported and defaults to treating nulls as greater than all numbers\n",
      "  \"When using a sequence of booleans for `ascending`, \"\n"
     ]
    },
    {
     "name": "stdout",
     "output_type": "stream",
     "text": [
      "[0]\ttrain-ndcg:0.88986\tvalid-ndcg:0.88973\n",
      "[10]\ttrain-ndcg:0.89024\tvalid-ndcg:0.89011\n",
      "[20]\ttrain-ndcg:0.89041\tvalid-ndcg:0.89035\n",
      "[30]\ttrain-ndcg:0.89030\tvalid-ndcg:0.89018\n",
      "[40]\ttrain-ndcg:0.89027\tvalid-ndcg:0.89016\n",
      "[50]\ttrain-ndcg:0.89036\tvalid-ndcg:0.89024\n",
      "[60]\ttrain-ndcg:0.89034\tvalid-ndcg:0.89021\n",
      "[70]\ttrain-ndcg:0.89039\tvalid-ndcg:0.89022\n",
      "[80]\ttrain-ndcg:0.89041\tvalid-ndcg:0.89025\n",
      "[90]\ttrain-ndcg:0.89043\tvalid-ndcg:0.89028\n",
      "[100]\ttrain-ndcg:0.89041\tvalid-ndcg:0.89028\n",
      "[103]\ttrain-ndcg:0.89041\tvalid-ndcg:0.89027\n",
      "Fold 1\n",
      "[0]\ttrain-ndcg:0.88991\tvalid-ndcg:0.89013\n",
      "[10]\ttrain-ndcg:0.89019\tvalid-ndcg:0.89042\n",
      "[20]\ttrain-ndcg:0.89015\tvalid-ndcg:0.89047\n",
      "[30]\ttrain-ndcg:0.89013\tvalid-ndcg:0.89044\n",
      "[40]\ttrain-ndcg:0.89014\tvalid-ndcg:0.89044\n",
      "[50]\ttrain-ndcg:0.89021\tvalid-ndcg:0.89048\n",
      "[60]\ttrain-ndcg:0.89026\tvalid-ndcg:0.89048\n",
      "[70]\ttrain-ndcg:0.89027\tvalid-ndcg:0.89050\n",
      "[80]\ttrain-ndcg:0.89029\tvalid-ndcg:0.89053\n",
      "[90]\ttrain-ndcg:0.89031\tvalid-ndcg:0.89057\n",
      "[100]\ttrain-ndcg:0.89032\tvalid-ndcg:0.89058\n",
      "[103]\ttrain-ndcg:0.89033\tvalid-ndcg:0.89057\n",
      "Fold 2\n",
      "[0]\ttrain-ndcg:0.88976\tvalid-ndcg:0.88957\n",
      "[10]\ttrain-ndcg:0.89019\tvalid-ndcg:0.89004\n",
      "[20]\ttrain-ndcg:0.89026\tvalid-ndcg:0.89011\n",
      "[30]\ttrain-ndcg:0.89025\tvalid-ndcg:0.89011\n",
      "[40]\ttrain-ndcg:0.89014\tvalid-ndcg:0.89003\n",
      "[50]\ttrain-ndcg:0.89022\tvalid-ndcg:0.89011\n",
      "[60]\ttrain-ndcg:0.89025\tvalid-ndcg:0.89011\n",
      "[70]\ttrain-ndcg:0.89025\tvalid-ndcg:0.89016\n",
      "[80]\ttrain-ndcg:0.89028\tvalid-ndcg:0.89015\n",
      "[90]\ttrain-ndcg:0.89033\tvalid-ndcg:0.89021\n",
      "[100]\ttrain-ndcg:0.89033\tvalid-ndcg:0.89021\n",
      "[110]\ttrain-ndcg:0.89033\tvalid-ndcg:0.89021\n",
      "[120]\ttrain-ndcg:0.89032\tvalid-ndcg:0.89022\n",
      "[130]\ttrain-ndcg:0.89032\tvalid-ndcg:0.89022\n",
      "[140]\ttrain-ndcg:0.89033\tvalid-ndcg:0.89024\n",
      "[149]\ttrain-ndcg:0.89034\tvalid-ndcg:0.89025\n",
      "Fold 3\n",
      "[0]\ttrain-ndcg:0.88974\tvalid-ndcg:0.88957\n",
      "[10]\ttrain-ndcg:0.89016\tvalid-ndcg:0.88995\n",
      "[20]\ttrain-ndcg:0.89015\tvalid-ndcg:0.88991\n",
      "[30]\ttrain-ndcg:0.89013\tvalid-ndcg:0.88990\n",
      "[40]\ttrain-ndcg:0.89017\tvalid-ndcg:0.88998\n",
      "[50]\ttrain-ndcg:0.89026\tvalid-ndcg:0.89006\n",
      "[60]\ttrain-ndcg:0.89026\tvalid-ndcg:0.89003\n",
      "[70]\ttrain-ndcg:0.89029\tvalid-ndcg:0.89006\n",
      "[80]\ttrain-ndcg:0.89030\tvalid-ndcg:0.89007\n",
      "[85]\ttrain-ndcg:0.89032\tvalid-ndcg:0.89007\n",
      "Fold 4\n",
      "[0]\ttrain-ndcg:0.88987\tvalid-ndcg:0.88987\n",
      "[10]\ttrain-ndcg:0.89023\tvalid-ndcg:0.89031\n",
      "[20]\ttrain-ndcg:0.89035\tvalid-ndcg:0.89045\n",
      "[30]\ttrain-ndcg:0.89029\tvalid-ndcg:0.89034\n",
      "[40]\ttrain-ndcg:0.89024\tvalid-ndcg:0.89027\n",
      "[50]\ttrain-ndcg:0.89034\tvalid-ndcg:0.89038\n",
      "[60]\ttrain-ndcg:0.89037\tvalid-ndcg:0.89039\n",
      "[70]\ttrain-ndcg:0.89040\tvalid-ndcg:0.89043\n",
      "[80]\ttrain-ndcg:0.89040\tvalid-ndcg:0.89044\n",
      "[90]\ttrain-ndcg:0.89042\tvalid-ndcg:0.89047\n",
      "[100]\ttrain-ndcg:0.89042\tvalid-ndcg:0.89042\n",
      "[101]\ttrain-ndcg:0.89042\tvalid-ndcg:0.89042\n",
      "clicks\n",
      "0 1 2 3 4 5 6 7 8 9 \n",
      "clicks recall = 0.5164914958383284\n"
     ]
    },
    {
     "data": {
      "text/plain": [
       "50"
      ]
     },
     "execution_count": 30,
     "metadata": {},
     "output_type": "execute_result"
    },
    {
     "data": {
      "image/png": "[encoded data removed]",
      "text/plain": [
       "<Figure size 432x288 with 1 Axes>"
      ]
     },
     "metadata": {
      "needs_background": "light"
     },
     "output_type": "display_data"
    }
   ],
   "source": [
    "xgb_parms['learning_rate'] = 0.1\n",
    "xgb_parms['max_depth'] = 8\n",
    "xgb_parms['subsample'] = 0.9\n",
    "xgb_parms['colsample_bytree'] = 0.8\n",
    "xgb_parms['min_child_weight'] = 200\n",
    "\n",
    "for valid_fold_num in cfg.train_folds:\n",
    "    print('Fold', valid_fold_num)\n",
    "\n",
    "    # X_train = train_clicks\n",
    "    X_train = train_clicks.loc[train_clicks.fold != valid_fold_num]\n",
    "#     X_train = X_train.sort_values('session')\n",
    "    X_train = X_train.sort_values(['session', 'clicks_final_wgt'], ascending=[True, False])\n",
    "    \n",
    "    y_train = X_train['gt']\n",
    "    groups = X_train.groupby('session').size().to_frame('size')['size']\n",
    "    X_train = X_train[feature_cols['clicks']]\n",
    "    \n",
    "    X_valid = train_clicks.loc[train_clicks.fold == valid_fold_num]\n",
    "    # X_valid = X_valid.sort_values('session')\n",
    "    X_valid = X_valid.sort_values(['session', 'clicks_final_wgt'], ascending=[True, False])\n",
    "    \n",
    "    y_valid = X_valid['gt']\n",
    "    val_groups = X_valid.groupby('session').size().to_frame('size')['size']\n",
    "    X_valid = X_valid[feature_cols['clicks']]\n",
    "    \n",
    "    dtrain = xgb.DMatrix(X_train, label=y_train, group=groups)\n",
    "    dvalid = xgb.DMatrix(X_valid, label=y_valid, group=val_groups)\n",
    "\n",
    "    model = xgb.train(\n",
    "        xgb_parms, \n",
    "        dtrain=dtrain,\n",
    "        evals=[(dtrain,'train'),(dvalid,'valid')],\n",
    "        num_boost_round=150,\n",
    "        early_stopping_rounds=80,\n",
    "        verbose_eval=10,\n",
    "    )\n",
    "\n",
    "    model.save_model(f'XGB_fold{valid_fold_num}_clicks.xgb')\n",
    "\n",
    "calc_val_score('clicks')\n",
    "\n",
    "_ = xgb.plot_importance(model, height=0.2)\n",
    "\n",
    "del train_clicks\n",
    "del X_train, y_train, X_valid, y_valid, dtrain, dvalid\n",
    "gc.collect()\n",
    "\n",
    "# 5166908232506884"
   ]
  },
  {
   "cell_type": "code",
   "execution_count": 31,
   "id": "e2c37232",
   "metadata": {
    "execution": {
     "iopub.execute_input": "2023-02-02T17:59:05.827476Z",
     "iopub.status.busy": "2023-02-02T17:59:05.825966Z",
     "iopub.status.idle": "2023-02-02T17:59:05.831178Z",
     "shell.execute_reply": "2023-02-02T17:59:05.830373Z"
    },
    "papermill": {
     "duration": 0.029542,
     "end_time": "2023-02-02T17:59:05.833017",
     "exception": false,
     "start_time": "2023-02-02T17:59:05.803475",
     "status": "completed"
    },
    "tags": []
   },
   "outputs": [],
   "source": [
    "# fig, ax = plt.subplots(figsize=(30, 30))\n",
    "# plot_tree(model, num_trees=100, ax=ax)\n",
    "# # fig.savefig('tree.png')\n",
    "# plt.show()"
   ]
  },
  {
   "cell_type": "code",
   "execution_count": 32,
   "id": "569c5673",
   "metadata": {
    "execution": {
     "iopub.execute_input": "2023-02-02T17:59:05.877301Z",
     "iopub.status.busy": "2023-02-02T17:59:05.875950Z",
     "iopub.status.idle": "2023-02-02T17:59:05.880921Z",
     "shell.execute_reply": "2023-02-02T17:59:05.880114Z"
    },
    "papermill": {
     "duration": 0.028803,
     "end_time": "2023-02-02T17:59:05.882795",
     "exception": false,
     "start_time": "2023-02-02T17:59:05.853992",
     "status": "completed"
    },
    "tags": []
   },
   "outputs": [],
   "source": [
    "# trees_df = model.trees_to_dataframe()\n",
    "# num_leaves = trees_df.groupby('Tree').size()\n",
    "# plt.plot(num_leaves)"
   ]
  },
  {
   "cell_type": "code",
   "execution_count": 33,
   "id": "d9f32c5a",
   "metadata": {
    "execution": {
     "iopub.execute_input": "2023-02-02T17:59:05.926739Z",
     "iopub.status.busy": "2023-02-02T17:59:05.926471Z",
     "iopub.status.idle": "2023-02-02T17:59:05.929871Z",
     "shell.execute_reply": "2023-02-02T17:59:05.928988Z"
    },
    "papermill": {
     "duration": 0.028063,
     "end_time": "2023-02-02T17:59:05.932040",
     "exception": false,
     "start_time": "2023-02-02T17:59:05.903977",
     "status": "completed"
    },
    "tags": []
   },
   "outputs": [],
   "source": [
    "# trees_df.loc[trees_df.Node < 1].Feature.value_counts()\n",
    "# trees_df.loc[trees_df.Node < 5].Feature.value_counts()\n",
    "# trees_df.loc[trees_df.Node > 10].Feature.value_counts()"
   ]
  },
  {
   "cell_type": "code",
   "execution_count": 34,
   "id": "dbc2c369",
   "metadata": {
    "execution": {
     "iopub.execute_input": "2023-02-02T17:59:05.975360Z",
     "iopub.status.busy": "2023-02-02T17:59:05.974563Z",
     "iopub.status.idle": "2023-02-02T17:59:05.981298Z",
     "shell.execute_reply": "2023-02-02T17:59:05.979876Z"
    },
    "papermill": {
     "duration": 0.030363,
     "end_time": "2023-02-02T17:59:05.983246",
     "exception": false,
     "start_time": "2023-02-02T17:59:05.952883",
     "status": "completed"
    },
    "tags": []
   },
   "outputs": [
    {
     "name": "stdout",
     "output_type": "stream",
     "text": [
      "Used params:\n",
      "['max_depth', 'min_child_weight', 'eta', 'gamma', 'learning_rate', 'colsample_bytree', 'subsample', 'eval_metric']\n",
      "[8, 200, 0.1, 25.0, 0.1, 0.8, 0.9, 'ndcg']\n"
     ]
    }
   ],
   "source": [
    "print('Used params:')\n",
    "print(list(xgb_parms.keys())[4:])\n",
    "print(list(xgb_parms.values())[4:])"
   ]
  },
  {
   "cell_type": "code",
   "execution_count": 35,
   "id": "60fd0c98",
   "metadata": {
    "execution": {
     "iopub.execute_input": "2023-02-02T17:59:06.027610Z",
     "iopub.status.busy": "2023-02-02T17:59:06.026180Z",
     "iopub.status.idle": "2023-02-02T17:59:06.175856Z",
     "shell.execute_reply": "2023-02-02T17:59:06.174748Z"
    },
    "papermill": {
     "duration": 0.174013,
     "end_time": "2023-02-02T17:59:06.178557",
     "exception": false,
     "start_time": "2023-02-02T17:59:06.004544",
     "status": "completed"
    },
    "tags": []
   },
   "outputs": [
    {
     "data": {
      "text/plain": [
       "105"
      ]
     },
     "execution_count": 35,
     "metadata": {},
     "output_type": "execute_result"
    }
   ],
   "source": [
    "del model\n",
    "gc.collect()"
   ]
  },
  {
   "cell_type": "code",
   "execution_count": 36,
   "id": "810814bb",
   "metadata": {
    "execution": {
     "iopub.execute_input": "2023-02-02T17:59:06.223916Z",
     "iopub.status.busy": "2023-02-02T17:59:06.222427Z",
     "iopub.status.idle": "2023-02-02T17:59:06.226869Z",
     "shell.execute_reply": "2023-02-02T17:59:06.226266Z"
    },
    "papermill": {
     "duration": 0.028426,
     "end_time": "2023-02-02T17:59:06.228629",
     "exception": false,
     "start_time": "2023-02-02T17:59:06.200203",
     "status": "completed"
    },
    "tags": []
   },
   "outputs": [],
   "source": [
    "# assert False"
   ]
  },
  {
   "cell_type": "code",
   "execution_count": 37,
   "id": "1910371b",
   "metadata": {
    "execution": {
     "iopub.execute_input": "2023-02-02T17:59:06.272570Z",
     "iopub.status.busy": "2023-02-02T17:59:06.271923Z",
     "iopub.status.idle": "2023-02-02T17:59:06.276797Z",
     "shell.execute_reply": "2023-02-02T17:59:06.275883Z"
    },
    "papermill": {
     "duration": 0.02968,
     "end_time": "2023-02-02T17:59:06.279481",
     "exception": false,
     "start_time": "2023-02-02T17:59:06.249801",
     "status": "completed"
    },
    "tags": []
   },
   "outputs": [
    {
     "name": "stdout",
     "output_type": "stream",
     "text": [
      "Free - 14551 MiB \tTotal - 16280 MiB\n"
     ]
    }
   ],
   "source": [
    "print_gpu_mem_info()"
   ]
  },
  {
   "cell_type": "code",
   "execution_count": 38,
   "id": "bd2b47f5",
   "metadata": {
    "execution": {
     "iopub.execute_input": "2023-02-02T17:59:06.324874Z",
     "iopub.status.busy": "2023-02-02T17:59:06.324106Z",
     "iopub.status.idle": "2023-02-02T17:59:06.539218Z",
     "shell.execute_reply": "2023-02-02T17:59:06.538355Z"
    },
    "papermill": {
     "duration": 0.239804,
     "end_time": "2023-02-02T17:59:06.541379",
     "exception": false,
     "start_time": "2023-02-02T17:59:06.301575",
     "status": "completed"
    },
    "tags": []
   },
   "outputs": [
    {
     "data": {
      "image/png": "[encoded data removed]",
      "text/plain": [
       "<Figure size 864x288 with 1 Axes>"
      ]
     },
     "metadata": {
      "needs_background": "light"
     },
     "output_type": "display_data"
    }
   ],
   "source": [
    "plot_gpu_usage()"
   ]
  },
  {
   "cell_type": "markdown",
   "id": "f8ae9bef",
   "metadata": {
    "papermill": {
     "duration": 0.021445,
     "end_time": "2023-02-02T17:59:06.584630",
     "exception": false,
     "start_time": "2023-02-02T17:59:06.563185",
     "status": "completed"
    },
    "tags": []
   },
   "source": [
    "# Carts"
   ]
  },
  {
   "cell_type": "code",
   "execution_count": 39,
   "id": "e8e609c9",
   "metadata": {
    "execution": {
     "iopub.execute_input": "2023-02-02T17:59:06.628762Z",
     "iopub.status.busy": "2023-02-02T17:59:06.628457Z",
     "iopub.status.idle": "2023-02-02T17:59:13.904922Z",
     "shell.execute_reply": "2023-02-02T17:59:13.903323Z"
    },
    "papermill": {
     "duration": 7.301204,
     "end_time": "2023-02-02T17:59:13.907191",
     "exception": false,
     "start_time": "2023-02-02T17:59:06.605987",
     "status": "completed"
    },
    "tags": []
   },
   "outputs": [
    {
     "name": "stdout",
     "output_type": "stream",
     "text": [
      "(18782460, 17)\n",
      "14\n",
      "['type', 'carts_final_wgt', 'top_buys_wgt', 'top_buy2buy_wgt', 'num_carts_last_2_hours', 'ts_duration', 'session_length', 'type_mean', 'aid_clicks_num_ps_log', 'aid_carts_num_ps_log', 'aid_orders_num_ps_log', 'carts_in_day_1', 'orders_in_day_1', 'carts_in_day_2']\n"
     ]
    }
   ],
   "source": [
    "train_carts = get_train_df('carts')\n",
    "\n",
    "# Adding both carts and orders as correct here\n",
    "train_carts = cudf.merge(\n",
    "    train_carts, train_labels.loc[train_labels.type!=0][['session', 'aid', 'gt']], how='left', on=['session', 'aid'])\n",
    "\n",
    "# Delete all cols that do not improve score\n",
    "del_cols = [\n",
    "#     'type', \n",
    "    'ts_max', 'ts_min', 'ts_mean', 'ts_med',\n",
    "#     'ts_duration', \n",
    "    'session_clicks',\n",
    "    'session_carts', \n",
    "    'session_orders', \n",
    "#     'session_length',\n",
    "    'repetitions',\n",
    "    'aid_num_log', \n",
    "    'aid_clicks_num_log', \n",
    "    'aid_carts_num_log', \n",
    "    'aid_orders_num_log', \n",
    "#     'aid_clicks_num_ps_log', \n",
    "#     'aid_carts_num_ps_log', \n",
    "#     'aid_orders_num_ps_log',\n",
    "    \n",
    "    'num_clicks_last_2_hours', \n",
    "#     'num_carts_last_2_hours',\n",
    "    'num_orders_last_2_hours', \n",
    "    'cart_order_diff_last_2_hours',\n",
    "#     'carts_in_day_1', \n",
    "#     'orders_in_day_1', \n",
    "#     'carts_in_day_2', \n",
    "    'orders_in_day_2', \n",
    "    'carts_in_day_3', \n",
    "    'orders_in_day_3',\n",
    "]\n",
    "for col in del_cols:\n",
    "    if col in train_carts.columns:\n",
    "        del train_carts[col]\n",
    "\n",
    "train_carts['gt'] = train_carts['gt'].fillna(0)\n",
    "print(train_carts.shape)\n",
    "\n",
    "train_carts = cudf.merge(train_carts, df_fold, on='session', how='left')\n",
    "# preview_df(train_carts)\n",
    "\n",
    "feature_cols['carts'] = get_feature_cols(train_carts, 'carts')\n",
    "print(len(feature_cols['carts']))\n",
    "print(feature_cols['carts'])"
   ]
  },
  {
   "cell_type": "code",
   "execution_count": 40,
   "id": "af42a1a0",
   "metadata": {
    "execution": {
     "iopub.execute_input": "2023-02-02T17:59:13.954284Z",
     "iopub.status.busy": "2023-02-02T17:59:13.953949Z",
     "iopub.status.idle": "2023-02-02T18:00:36.258488Z",
     "shell.execute_reply": "2023-02-02T18:00:36.257588Z"
    },
    "papermill": {
     "duration": 82.330042,
     "end_time": "2023-02-02T18:00:36.260486",
     "exception": false,
     "start_time": "2023-02-02T17:59:13.930444",
     "status": "completed"
    },
    "tags": []
   },
   "outputs": [
    {
     "name": "stdout",
     "output_type": "stream",
     "text": [
      "Fold 0\n",
      "[0]\ttrain-ndcg:0.97942\tvalid-ndcg:0.97911\n",
      "[10]\ttrain-ndcg:0.97991\tvalid-ndcg:0.97966\n",
      "[20]\ttrain-ndcg:0.98031\tvalid-ndcg:0.97994\n",
      "[30]\ttrain-ndcg:0.98056\tvalid-ndcg:0.98016\n",
      "[40]\ttrain-ndcg:0.98067\tvalid-ndcg:0.98026\n",
      "[50]\ttrain-ndcg:0.98070\tvalid-ndcg:0.98029\n",
      "[60]\ttrain-ndcg:0.98071\tvalid-ndcg:0.98032\n",
      "[70]\ttrain-ndcg:0.98071\tvalid-ndcg:0.98034\n",
      "[80]\ttrain-ndcg:0.98072\tvalid-ndcg:0.98036\n",
      "[90]\ttrain-ndcg:0.98072\tvalid-ndcg:0.98036\n",
      "[100]\ttrain-ndcg:0.98072\tvalid-ndcg:0.98037\n",
      "[101]\ttrain-ndcg:0.98072\tvalid-ndcg:0.98037\n",
      "Fold 1\n",
      "[0]\ttrain-ndcg:0.97906\tvalid-ndcg:0.97909\n",
      "[10]\ttrain-ndcg:0.97993\tvalid-ndcg:0.97984\n",
      "[20]\ttrain-ndcg:0.98036\tvalid-ndcg:0.98015\n",
      "[30]\ttrain-ndcg:0.98060\tvalid-ndcg:0.98038\n",
      "[40]\ttrain-ndcg:0.98069\tvalid-ndcg:0.98043\n",
      "[50]\ttrain-ndcg:0.98073\tvalid-ndcg:0.98047\n",
      "[60]\ttrain-ndcg:0.98075\tvalid-ndcg:0.98048\n",
      "[70]\ttrain-ndcg:0.98077\tvalid-ndcg:0.98049\n",
      "[80]\ttrain-ndcg:0.98078\tvalid-ndcg:0.98049\n",
      "[84]\ttrain-ndcg:0.98077\tvalid-ndcg:0.98048\n",
      "Fold 2\n",
      "[0]\ttrain-ndcg:0.97921\tvalid-ndcg:0.97909\n",
      "[10]\ttrain-ndcg:0.97995\tvalid-ndcg:0.97977\n",
      "[20]\ttrain-ndcg:0.98036\tvalid-ndcg:0.98017\n",
      "[30]\ttrain-ndcg:0.98061\tvalid-ndcg:0.98041\n",
      "[40]\ttrain-ndcg:0.98070\tvalid-ndcg:0.98046\n",
      "[50]\ttrain-ndcg:0.98073\tvalid-ndcg:0.98048\n",
      "[60]\ttrain-ndcg:0.98076\tvalid-ndcg:0.98052\n",
      "[70]\ttrain-ndcg:0.98080\tvalid-ndcg:0.98053\n",
      "[80]\ttrain-ndcg:0.98080\tvalid-ndcg:0.98053\n",
      "[90]\ttrain-ndcg:0.98080\tvalid-ndcg:0.98053\n",
      "[96]\ttrain-ndcg:0.98080\tvalid-ndcg:0.98053\n",
      "Fold 3\n",
      "[0]\ttrain-ndcg:0.97914\tvalid-ndcg:0.97898\n",
      "[10]\ttrain-ndcg:0.98000\tvalid-ndcg:0.97966\n",
      "[20]\ttrain-ndcg:0.98040\tvalid-ndcg:0.98007\n",
      "[30]\ttrain-ndcg:0.98064\tvalid-ndcg:0.98022\n",
      "[40]\ttrain-ndcg:0.98074\tvalid-ndcg:0.98032\n",
      "[50]\ttrain-ndcg:0.98078\tvalid-ndcg:0.98034\n",
      "[60]\ttrain-ndcg:0.98079\tvalid-ndcg:0.98036\n",
      "[70]\ttrain-ndcg:0.98081\tvalid-ndcg:0.98039\n",
      "[80]\ttrain-ndcg:0.98081\tvalid-ndcg:0.98039\n",
      "[90]\ttrain-ndcg:0.98081\tvalid-ndcg:0.98038\n",
      "[96]\ttrain-ndcg:0.98082\tvalid-ndcg:0.98038\n",
      "Fold 4\n",
      "[0]\ttrain-ndcg:0.97937\tvalid-ndcg:0.97927\n",
      "[10]\ttrain-ndcg:0.97988\tvalid-ndcg:0.97976\n",
      "[20]\ttrain-ndcg:0.98028\tvalid-ndcg:0.98015\n",
      "[30]\ttrain-ndcg:0.98055\tvalid-ndcg:0.98030\n",
      "[40]\ttrain-ndcg:0.98065\tvalid-ndcg:0.98040\n",
      "[50]\ttrain-ndcg:0.98068\tvalid-ndcg:0.98038\n",
      "[60]\ttrain-ndcg:0.98072\tvalid-ndcg:0.98040\n",
      "[70]\ttrain-ndcg:0.98075\tvalid-ndcg:0.98041\n",
      "[80]\ttrain-ndcg:0.98075\tvalid-ndcg:0.98043\n",
      "[90]\ttrain-ndcg:0.98074\tvalid-ndcg:0.98042\n",
      "[98]\ttrain-ndcg:0.98075\tvalid-ndcg:0.98042\n",
      "carts\n",
      "0 1 2 3 4 5 6 7 8 9 \n",
      "carts recall = 0.4054100888973608\n"
     ]
    },
    {
     "data": {
      "text/plain": [
       "0.4054100888973608"
      ]
     },
     "execution_count": 40,
     "metadata": {},
     "output_type": "execute_result"
    },
    {
     "data": {
      "image/png": "[encoded data removed]",
      "text/plain": [
       "<Figure size 432x288 with 1 Axes>"
      ]
     },
     "metadata": {
      "needs_background": "light"
     },
     "output_type": "display_data"
    }
   ],
   "source": [
    "xgb_parms['learning_rate'] = 0.4\n",
    "xgb_parms['max_depth'] = 8\n",
    "xgb_parms['gamma'] = 15.0\n",
    "xgb_parms['subsample'] = 0.9\n",
    "xgb_parms['colsample_bytree'] = 0.75\n",
    "xgb_parms['min_child_weight'] = 200\n",
    "xgb_parms['max_delta_step'] = 0\n",
    "xgb_parms['eta'] = 0.1\n",
    "xgb_parms['eval_metric'] =  'ndcg'\n",
    "\n",
    "for valid_fold_num in cfg.train_folds:\n",
    "    print('Fold', valid_fold_num)\n",
    "\n",
    "    # X_train = train_carts\n",
    "    X_train = train_carts.loc[train_carts.fold != valid_fold_num]\n",
    "    X_train = X_train.sort_values('session')\n",
    "    \n",
    "    y_train = X_train['gt']\n",
    "    groups = X_train.groupby('session').size().to_frame('size')['size']\n",
    "    X_train = X_train[feature_cols['carts']]\n",
    "    \n",
    "    X_valid = train_carts.loc[train_carts.fold == valid_fold_num]\n",
    "    X_valid = X_valid.sort_values('session')\n",
    "    \n",
    "    y_valid = X_valid['gt']\n",
    "    val_groups = X_valid.groupby('session').size().to_frame('size')['size']\n",
    "    X_valid = X_valid[feature_cols['carts']]\n",
    "    \n",
    "    dtrain = xgb.DMatrix(X_train, label=y_train, group=groups)\n",
    "    dvalid = xgb.DMatrix(X_valid, label=y_valid, group=val_groups)\n",
    "\n",
    "    gc.collect()\n",
    "    \n",
    "    model = xgb.train(\n",
    "        xgb_parms, \n",
    "        dtrain=dtrain,\n",
    "        evals=[(dtrain,'train'),(dvalid,'valid')],\n",
    "        num_boost_round=150,\n",
    "        verbose_eval=10,\n",
    "        early_stopping_rounds=20,\n",
    "    )\n",
    "\n",
    "    model.save_model(f'XGB_fold{valid_fold_num}_carts.xgb')\n",
    "\n",
    "_ = xgb.plot_importance(model)\n",
    "\n",
    "del train_carts\n",
    "del X_train, y_train, X_valid, y_valid, dtrain, dvalid\n",
    "gc.collect()\n",
    "\n",
    "calc_val_score('carts')\n",
    "# 4057566673020604"
   ]
  },
  {
   "cell_type": "code",
   "execution_count": 41,
   "id": "4915e585",
   "metadata": {
    "execution": {
     "iopub.execute_input": "2023-02-02T18:00:36.314117Z",
     "iopub.status.busy": "2023-02-02T18:00:36.313528Z",
     "iopub.status.idle": "2023-02-02T18:00:36.660103Z",
     "shell.execute_reply": "2023-02-02T18:00:36.659227Z"
    },
    "papermill": {
     "duration": 0.375211,
     "end_time": "2023-02-02T18:00:36.662184",
     "exception": false,
     "start_time": "2023-02-02T18:00:36.286973",
     "status": "completed"
    },
    "tags": []
   },
   "outputs": [
    {
     "data": {
      "text/plain": [
       "[<matplotlib.lines.Line2D at 0x7f329e10be10>]"
      ]
     },
     "execution_count": 41,
     "metadata": {},
     "output_type": "execute_result"
    },
    {
     "data": {
      "image/png": "[encoded data removed]",
      "text/plain": [
       "<Figure size 432x288 with 1 Axes>"
      ]
     },
     "metadata": {
      "needs_background": "light"
     },
     "output_type": "display_data"
    }
   ],
   "source": [
    "trees_df = model.trees_to_dataframe()\n",
    "num_leaves = trees_df.groupby('Tree').size()\n",
    "plt.plot(num_leaves)"
   ]
  },
  {
   "cell_type": "code",
   "execution_count": 42,
   "id": "98776070",
   "metadata": {
    "execution": {
     "iopub.execute_input": "2023-02-02T18:00:36.715393Z",
     "iopub.status.busy": "2023-02-02T18:00:36.715069Z",
     "iopub.status.idle": "2023-02-02T18:00:36.720196Z",
     "shell.execute_reply": "2023-02-02T18:00:36.719305Z"
    },
    "papermill": {
     "duration": 0.033633,
     "end_time": "2023-02-02T18:00:36.722029",
     "exception": false,
     "start_time": "2023-02-02T18:00:36.688396",
     "status": "completed"
    },
    "tags": []
   },
   "outputs": [],
   "source": [
    "# trees_df.loc[trees_df.Node < 1].Feature.value_counts()\n",
    "# trees_df.loc[trees_df.Node < 5].Feature.value_counts()\n",
    "# trees_df.loc[trees_df.Node > 10].Feature.value_counts()"
   ]
  },
  {
   "cell_type": "code",
   "execution_count": 43,
   "id": "e8dd201b",
   "metadata": {
    "execution": {
     "iopub.execute_input": "2023-02-02T18:00:36.775081Z",
     "iopub.status.busy": "2023-02-02T18:00:36.774543Z",
     "iopub.status.idle": "2023-02-02T18:00:36.932165Z",
     "shell.execute_reply": "2023-02-02T18:00:36.931261Z"
    },
    "papermill": {
     "duration": 0.1864,
     "end_time": "2023-02-02T18:00:36.934222",
     "exception": false,
     "start_time": "2023-02-02T18:00:36.747822",
     "status": "completed"
    },
    "tags": []
   },
   "outputs": [
    {
     "data": {
      "text/plain": [
       "42"
      ]
     },
     "execution_count": 43,
     "metadata": {},
     "output_type": "execute_result"
    }
   ],
   "source": [
    "del model\n",
    "gc.collect()"
   ]
  },
  {
   "cell_type": "code",
   "execution_count": 44,
   "id": "54eee2e9",
   "metadata": {
    "execution": {
     "iopub.execute_input": "2023-02-02T18:00:36.989940Z",
     "iopub.status.busy": "2023-02-02T18:00:36.989006Z",
     "iopub.status.idle": "2023-02-02T18:00:39.213267Z",
     "shell.execute_reply": "2023-02-02T18:00:39.212239Z"
    },
    "papermill": {
     "duration": 2.254636,
     "end_time": "2023-02-02T18:00:39.215316",
     "exception": false,
     "start_time": "2023-02-02T18:00:36.960680",
     "status": "completed"
    },
    "tags": []
   },
   "outputs": [
    {
     "name": "stdout",
     "output_type": "stream",
     "text": [
      "Free - 14543 MiB \tTotal - 16280 MiB\n"
     ]
    },
    {
     "data": {
      "image/png": "[encoded data removed]",
      "text/plain": [
       "<Figure size 864x288 with 1 Axes>"
      ]
     },
     "metadata": {
      "needs_background": "light"
     },
     "output_type": "display_data"
    }
   ],
   "source": [
    "time.sleep(2)\n",
    "print_gpu_mem_info()\n",
    "plot_gpu_usage()"
   ]
  },
  {
   "cell_type": "markdown",
   "id": "2b1c8791",
   "metadata": {
    "papermill": {
     "duration": 0.03258,
     "end_time": "2023-02-02T18:00:39.275215",
     "exception": false,
     "start_time": "2023-02-02T18:00:39.242635",
     "status": "completed"
    },
    "tags": []
   },
   "source": [
    "# Orders"
   ]
  },
  {
   "cell_type": "code",
   "execution_count": 45,
   "id": "c79d9e60",
   "metadata": {
    "execution": {
     "iopub.execute_input": "2023-02-02T18:00:39.332732Z",
     "iopub.status.busy": "2023-02-02T18:00:39.332376Z",
     "iopub.status.idle": "2023-02-02T18:00:47.053571Z",
     "shell.execute_reply": "2023-02-02T18:00:47.052079Z"
    },
    "papermill": {
     "duration": 7.752066,
     "end_time": "2023-02-02T18:00:47.055890",
     "exception": false,
     "start_time": "2023-02-02T18:00:39.303824",
     "status": "completed"
    },
    "tags": []
   },
   "outputs": [
    {
     "name": "stdout",
     "output_type": "stream",
     "text": [
      "18,541,269\n",
      "13\n",
      "['type', 'orders_final_wgt', 'top_buys_wgt', 'top_buy2buy_wgt', 'num_clicks_last_2_hours', 'num_carts_last_2_hours', 'num_orders_last_2_hours', 'type_mean', 'aid_clicks_num_ps_log', 'aid_carts_num_ps_log', 'aid_orders_num_ps_log', 'carts_in_day_1', 'orders_in_day_1']\n"
     ]
    }
   ],
   "source": [
    "train = get_train_df('orders')\n",
    "print(len_mils(train))\n",
    "\n",
    "# Set both carts and orders as correct:\n",
    "# train_orders = cudf.merge(train, train_labels.loc[train_labels.type!=0][['session', 'aid', 'gt']], how='left', on=['session', 'aid'])\n",
    "# Set only orders as correct:\n",
    "train_orders = cudf.merge(train, train_labels.loc[train_labels.type==2][['session', 'aid', 'gt']], how='left', on=['session', 'aid'])\n",
    "\n",
    "# Delete all cols that do not improve score\n",
    "del_cols = [\n",
    "#         'type', \n",
    "    'ts_max', 'ts_min', 'ts_mean', 'ts_med',\n",
    "    'ts_duration', \n",
    "    'session_clicks',\n",
    "    'session_carts', \n",
    "    'session_orders', \n",
    "    'session_length',\n",
    "    'repetitions',\n",
    "    'aid_num_log', \n",
    "    'aid_clicks_num_log', \n",
    "    'aid_carts_num_log', \n",
    "    'aid_orders_num_log', \n",
    "#     'aid_clicks_num_ps_log', \n",
    "#     'aid_carts_num_ps_log', \n",
    "#     'aid_orders_num_ps_log',\n",
    "    \n",
    "#     'num_clicks_last_2_hours', \n",
    "#     'num_carts_last_2_hours',\n",
    "#     'num_orders_last_2_hours', \n",
    "#     'cart_order_diff_last_2_hours',\n",
    "    \n",
    "#     'carts_in_day_1', \n",
    "#     'orders_in_day_1', \n",
    "    'carts_in_day_2', \n",
    "    'orders_in_day_2', \n",
    "    'carts_in_day_3', \n",
    "    'orders_in_day_3',\n",
    "    #'type_mean',\n",
    "]\n",
    "for col in del_cols:\n",
    "    if col in train_orders.columns:\n",
    "        del train_orders[col]\n",
    "\n",
    "train_orders['gt'] = train_orders['gt'].fillna(0)\n",
    "del train\n",
    "\n",
    "train_orders = cudf.merge(train_orders, df_fold, on='session', how='left')\n",
    "\n",
    "feature_cols['orders'] = get_feature_cols(train_orders, 'orders')\n",
    "print(len(feature_cols['orders']))\n",
    "print(feature_cols['orders'])"
   ]
  },
  {
   "cell_type": "code",
   "execution_count": 46,
   "id": "07abe1a4",
   "metadata": {
    "execution": {
     "iopub.execute_input": "2023-02-02T18:00:47.111064Z",
     "iopub.status.busy": "2023-02-02T18:00:47.110733Z",
     "iopub.status.idle": "2023-02-02T18:01:36.851781Z",
     "shell.execute_reply": "2023-02-02T18:01:36.850704Z"
    },
    "papermill": {
     "duration": 49.771924,
     "end_time": "2023-02-02T18:01:36.854653",
     "exception": false,
     "start_time": "2023-02-02T18:00:47.082729",
     "status": "completed"
    },
    "tags": []
   },
   "outputs": [
    {
     "name": "stdout",
     "output_type": "stream",
     "text": [
      "Fold 0\n",
      "[0]\ttrain-ndcg:0.99337\tvalid-ndcg:0.99328\n",
      "[10]\ttrain-ndcg:0.99336\tvalid-ndcg:0.99328\n",
      "[20]\ttrain-ndcg:0.99339\tvalid-ndcg:0.99328\n",
      "[30]\ttrain-ndcg:0.99341\tvalid-ndcg:0.99327\n",
      "[34]\ttrain-ndcg:0.99339\tvalid-ndcg:0.99325\n",
      "Fold 1\n",
      "[0]\ttrain-ndcg:0.99342\tvalid-ndcg:0.99344\n",
      "[10]\ttrain-ndcg:0.99332\tvalid-ndcg:0.99328\n",
      "[20]\ttrain-ndcg:0.99339\tvalid-ndcg:0.99327\n",
      "[29]\ttrain-ndcg:0.99343\tvalid-ndcg:0.99331\n",
      "Fold 2\n",
      "[0]\ttrain-ndcg:0.99345\tvalid-ndcg:0.99334\n",
      "[10]\ttrain-ndcg:0.99336\tvalid-ndcg:0.99325\n",
      "[20]\ttrain-ndcg:0.99338\tvalid-ndcg:0.99324\n",
      "[30]\ttrain-ndcg:0.99340\tvalid-ndcg:0.99327\n",
      "[32]\ttrain-ndcg:0.99340\tvalid-ndcg:0.99327\n",
      "Fold 3\n",
      "[0]\ttrain-ndcg:0.99336\tvalid-ndcg:0.99329\n",
      "[10]\ttrain-ndcg:0.99341\tvalid-ndcg:0.99320\n",
      "[20]\ttrain-ndcg:0.99343\tvalid-ndcg:0.99321\n",
      "[30]\ttrain-ndcg:0.99348\tvalid-ndcg:0.99323\n",
      "[32]\ttrain-ndcg:0.99348\tvalid-ndcg:0.99322\n",
      "Fold 4\n",
      "[0]\ttrain-ndcg:0.99333\tvalid-ndcg:0.99320\n",
      "[10]\ttrain-ndcg:0.99338\tvalid-ndcg:0.99321\n",
      "[20]\ttrain-ndcg:0.99341\tvalid-ndcg:0.99326\n",
      "[30]\ttrain-ndcg:0.99342\tvalid-ndcg:0.99327\n",
      "[40]\ttrain-ndcg:0.99340\tvalid-ndcg:0.99326\n",
      "[50]\ttrain-ndcg:0.99339\tvalid-ndcg:0.99325\n",
      "[60]\ttrain-ndcg:0.99339\tvalid-ndcg:0.99325\n",
      "[68]\ttrain-ndcg:0.99339\tvalid-ndcg:0.99324\n",
      "orders\n",
      "0 1 2 3 4 5 6 7 8 9 \n",
      "orders recall = 0.651337993250052\n"
     ]
    },
    {
     "data": {
      "text/plain": [
       "0.651337993250052"
      ]
     },
     "execution_count": 46,
     "metadata": {},
     "output_type": "execute_result"
    },
    {
     "data": {
      "image/png": "[encoded data removed]",
      "text/plain": [
       "<Figure size 432x288 with 1 Axes>"
      ]
     },
     "metadata": {
      "needs_background": "light"
     },
     "output_type": "display_data"
    }
   ],
   "source": [
    "xgb_parms['learning_rate'] = 0.4\n",
    "xgb_parms['max_depth'] = 8\n",
    "xgb_parms['gamma'] = 15.0\n",
    "xgb_parms['subsample'] = 0.8\n",
    "xgb_parms['colsample_bytree'] = 1\n",
    "xgb_parms['min_child_weight'] = 200\n",
    "xgb_parms['max_delta_step'] = 0\n",
    "xgb_parms['eta'] = 0.1\n",
    "\n",
    "for valid_fold_num in cfg.train_folds:\n",
    "    print('Fold', valid_fold_num)\n",
    "\n",
    "    # X_train = train_orders\n",
    "    X_train = train_orders.loc[train_orders.fold != valid_fold_num]\n",
    "    X_train = X_train.sort_values('session')\n",
    "    \n",
    "    y_train = X_train['gt']\n",
    "    groups = X_train.groupby('session').size().to_frame('size')['size']\n",
    "    X_train = X_train[feature_cols['orders']]\n",
    "    \n",
    "    X_valid = train_orders.loc[train_orders.fold == valid_fold_num]\n",
    "    X_valid = X_valid.sort_values('session')\n",
    "    \n",
    "    y_valid = X_valid['gt']\n",
    "    val_groups = X_valid.groupby('session').size().to_frame('size')['size']\n",
    "    X_valid = X_valid[feature_cols['orders']]\n",
    "    \n",
    "    dtrain = xgb.DMatrix(X_train, label=y_train, group=groups)\n",
    "    dvalid = xgb.DMatrix(X_valid, label=y_valid, group=val_groups)\n",
    "\n",
    "    gc.collect()\n",
    "\n",
    "    model = xgb.train(\n",
    "        xgb_parms,\n",
    "        dtrain=dtrain,\n",
    "        evals=[(dtrain,'train'),(dvalid,'valid')],\n",
    "        num_boost_round=100,\n",
    "        verbose_eval=10,\n",
    "        early_stopping_rounds=30,\n",
    "    )\n",
    "\n",
    "    model.save_model(f'XGB_fold{valid_fold_num}_orders.xgb')\n",
    "\n",
    "del train_orders\n",
    "del X_train, y_train, X_valid, y_valid, dtrain, dvalid\n",
    "\n",
    "_ = xgb.plot_importance(model)\n",
    "\n",
    "calc_val_score('orders')\n",
    "\n",
    "# 6510660759129224\n",
    "# 6514019737999648"
   ]
  },
  {
   "cell_type": "code",
   "execution_count": 47,
   "id": "814641f8",
   "metadata": {
    "execution": {
     "iopub.execute_input": "2023-02-02T18:01:36.950798Z",
     "iopub.status.busy": "2023-02-02T18:01:36.950264Z",
     "iopub.status.idle": "2023-02-02T18:01:37.135176Z",
     "shell.execute_reply": "2023-02-02T18:01:37.134309Z"
    },
    "papermill": {
     "duration": 0.235174,
     "end_time": "2023-02-02T18:01:37.137462",
     "exception": false,
     "start_time": "2023-02-02T18:01:36.902288",
     "status": "completed"
    },
    "tags": []
   },
   "outputs": [
    {
     "data": {
      "text/plain": [
       "21"
      ]
     },
     "execution_count": 47,
     "metadata": {},
     "output_type": "execute_result"
    }
   ],
   "source": [
    "del model\n",
    "gc.collect()"
   ]
  },
  {
   "cell_type": "code",
   "execution_count": 48,
   "id": "53897898",
   "metadata": {
    "execution": {
     "iopub.execute_input": "2023-02-02T18:01:37.199996Z",
     "iopub.status.busy": "2023-02-02T18:01:37.199691Z",
     "iopub.status.idle": "2023-02-02T18:01:39.420362Z",
     "shell.execute_reply": "2023-02-02T18:01:39.419377Z"
    },
    "papermill": {
     "duration": 2.25474,
     "end_time": "2023-02-02T18:01:39.422435",
     "exception": false,
     "start_time": "2023-02-02T18:01:37.167695",
     "status": "completed"
    },
    "tags": []
   },
   "outputs": [
    {
     "name": "stdout",
     "output_type": "stream",
     "text": [
      "Free - 14645 MiB \tTotal - 16280 MiB\n"
     ]
    },
    {
     "data": {
      "image/png": "[encoded data removed]",
      "text/plain": [
       "<Figure size 864x288 with 1 Axes>"
      ]
     },
     "metadata": {
      "needs_background": "light"
     },
     "output_type": "display_data"
    }
   ],
   "source": [
    "sleep(2)\n",
    "print_gpu_mem_info()\n",
    "plot_gpu_usage()"
   ]
  },
  {
   "cell_type": "code",
   "execution_count": 49,
   "id": "84d257a0",
   "metadata": {
    "execution": {
     "iopub.execute_input": "2023-02-02T18:01:39.483517Z",
     "iopub.status.busy": "2023-02-02T18:01:39.483185Z",
     "iopub.status.idle": "2023-02-02T18:01:39.487743Z",
     "shell.execute_reply": "2023-02-02T18:01:39.486220Z"
    },
    "papermill": {
     "duration": 0.03714,
     "end_time": "2023-02-02T18:01:39.489650",
     "exception": false,
     "start_time": "2023-02-02T18:01:39.452510",
     "status": "completed"
    },
    "tags": []
   },
   "outputs": [],
   "source": [
    "# assert False"
   ]
  },
  {
   "cell_type": "markdown",
   "id": "ae4698db",
   "metadata": {
    "papermill": {
     "duration": 0.029312,
     "end_time": "2023-02-02T18:01:39.548301",
     "exception": false,
     "start_time": "2023-02-02T18:01:39.518989",
     "status": "completed"
    },
    "tags": []
   },
   "source": [
    "# Predict on validation data"
   ]
  },
  {
   "cell_type": "code",
   "execution_count": 50,
   "id": "efb2e7e9",
   "metadata": {
    "execution": {
     "iopub.execute_input": "2023-02-02T18:01:39.609535Z",
     "iopub.status.busy": "2023-02-02T18:01:39.609206Z",
     "iopub.status.idle": "2023-02-02T18:01:39.614594Z",
     "shell.execute_reply": "2023-02-02T18:01:39.613612Z"
    },
    "papermill": {
     "duration": 0.038768,
     "end_time": "2023-02-02T18:01:39.617422",
     "exception": false,
     "start_time": "2023-02-02T18:01:39.578654",
     "status": "completed"
    },
    "tags": []
   },
   "outputs": [
    {
     "name": "stdout",
     "output_type": "stream",
     "text": [
      "Validation:\n",
      "Valid num 0\n"
     ]
    }
   ],
   "source": [
    "print('Validation:')\n",
    "print('Valid num', cfg.val_fold)"
   ]
  },
  {
   "cell_type": "code",
   "execution_count": 51,
   "id": "13bcd1b1",
   "metadata": {
    "execution": {
     "iopub.execute_input": "2023-02-02T18:01:39.678577Z",
     "iopub.status.busy": "2023-02-02T18:01:39.678213Z",
     "iopub.status.idle": "2023-02-02T18:01:46.780424Z",
     "shell.execute_reply": "2023-02-02T18:01:46.778438Z"
    },
    "papermill": {
     "duration": 7.135479,
     "end_time": "2023-02-02T18:01:46.782769",
     "exception": false,
     "start_time": "2023-02-02T18:01:39.647290",
     "status": "completed"
    },
    "tags": []
   },
   "outputs": [
    {
     "name": "stdout",
     "output_type": "stream",
     "text": [
      "clicks\n",
      "0 1 2 3 4 5 6 7 8 9 \n",
      "carts\n",
      "0 1 2 3 4 5 6 7 8 9 \n",
      "orders\n",
      "0 1 2 3 4 5 6 7 8 9 \n"
     ]
    }
   ],
   "source": [
    "events_names = ['clicks', 'carts', 'orders']\n",
    "\n",
    "preds = {}\n",
    "for event_name in events_names:\n",
    "    print(event_name)\n",
    "    \n",
    "    model = xgb.Booster()\n",
    "    model.load_model(f'XGB_fold{valid_fold_num}_{event_name}.xgb')\n",
    "    model.set_param({'predictor': 'gpu_predictor'})\n",
    "    \n",
    "    preds[event_name] = []\n",
    "    for i,f in enumerate(val_candidates_files[event_name]):\n",
    "        print(i, end=' ')\n",
    "\n",
    "        val_candidates = cudf.read_parquet(f)\n",
    "        val_candidates = val_candidates.sort_values('session')\n",
    "        \n",
    "        groups = val_candidates.groupby('session').size().to_frame('size')['size']\n",
    "        dtest = xgb.DMatrix(data=val_candidates[feature_cols[event_name]], group=groups)\n",
    "\n",
    "        preds[event_name].append(model.predict(dtest))\n",
    "        del dtest, val_candidates\n",
    "    \n",
    "    preds[event_name] = np.concatenate(preds[event_name], axis=None)\n",
    "    np.save(f'val_preds_{event_name}.npy', preds[event_name])\n",
    "    print()"
   ]
  },
  {
   "cell_type": "code",
   "execution_count": 52,
   "id": "09f26058",
   "metadata": {
    "execution": {
     "iopub.execute_input": "2023-02-02T18:01:46.846930Z",
     "iopub.status.busy": "2023-02-02T18:01:46.846604Z",
     "iopub.status.idle": "2023-02-02T18:01:46.850712Z",
     "shell.execute_reply": "2023-02-02T18:01:46.849727Z"
    },
    "papermill": {
     "duration": 0.03794,
     "end_time": "2023-02-02T18:01:46.852686",
     "exception": false,
     "start_time": "2023-02-02T18:01:46.814746",
     "status": "completed"
    },
    "tags": []
   },
   "outputs": [],
   "source": [
    "# gc.collect()\n",
    "# time.sleep(2)\n",
    "# print_gpu_mem_info()\n",
    "# plot_gpu_usage()"
   ]
  },
  {
   "cell_type": "markdown",
   "id": "cb16fd42",
   "metadata": {
    "papermill": {
     "duration": 0.030926,
     "end_time": "2023-02-02T18:01:46.914351",
     "exception": false,
     "start_time": "2023-02-02T18:01:46.883425",
     "status": "completed"
    },
    "tags": []
   },
   "source": [
    "## Create val submission"
   ]
  },
  {
   "cell_type": "code",
   "execution_count": 53,
   "id": "18e4932a",
   "metadata": {
    "execution": {
     "iopub.execute_input": "2023-02-02T18:01:46.977247Z",
     "iopub.status.busy": "2023-02-02T18:01:46.976951Z",
     "iopub.status.idle": "2023-02-02T18:02:26.359957Z",
     "shell.execute_reply": "2023-02-02T18:02:26.358966Z"
    },
    "papermill": {
     "duration": 39.417157,
     "end_time": "2023-02-02T18:02:26.362453",
     "exception": false,
     "start_time": "2023-02-02T18:01:46.945296",
     "status": "completed"
    },
    "tags": []
   },
   "outputs": [
    {
     "name": "stdout",
     "output_type": "stream",
     "text": [
      "clicks\n",
      "carts\n",
      "orders\n"
     ]
    }
   ],
   "source": [
    "events_names = ['clicks', 'carts', 'orders']\n",
    "# events_names = ['clicks']\n",
    "\n",
    "predictions = {}\n",
    "sub = {}\n",
    "for event_name in events_names:\n",
    "    print(event_name)\n",
    "    \n",
    "    # Add predictions to test dataframe\n",
    "\n",
    "    predictions[event_name] = get_val_data(event_name)[['session','aid']]\n",
    "    # print(predictions[event_name].session.nunique())    \n",
    "    \n",
    "    # predictions[event_name]['pred'] = preds[event_name]\n",
    "    predictions[event_name]['pred'] = preds[event_name]\n",
    "\n",
    "    # Pick top 20 predictions\n",
    "\n",
    "    predictions[event_name] = predictions[event_name].sort_values(['session','pred'], ascending=[True,False]).reset_index(drop=True)\n",
    "    predictions[event_name]['n'] = predictions[event_name].groupby('session').aid.cumcount().astype('int8')\n",
    "    predictions[event_name] = predictions[event_name].loc[predictions[event_name].n<20]\n",
    "    del predictions[event_name]['pred']\n",
    "    del predictions[event_name]['n']\n",
    "    # print(predictions[event_name].shape)\n",
    "    # display(predictions[event_name].head())\n",
    "\n",
    "    # Transform (session,aid) pairs to (session,string of all aids) pairs\n",
    "    predictions[event_name] = predictions[event_name].to_pandas() # it is faster to do next functions in pandas then in cudf\n",
    "    sub[event_name] = predictions[event_name].groupby('session').aid.apply(list)\n",
    "    del predictions[event_name]\n",
    "    sub[event_name] = sub[event_name].to_frame().reset_index()\n",
    "    sub[event_name].aid = sub[event_name].aid.apply(lambda x: \" \".join(map(str,x)))\n",
    "    # preview_df(sub[event_name])\n",
    "\n",
    "    # Add session type for each session num\n",
    "    to_add_str = '_' + event_name\n",
    "    sub[event_name]['session'] = sub[event_name].session.astype('str') + to_add_str\n",
    "\n",
    "    gc.collect()\n",
    "    time.sleep(2)"
   ]
  },
  {
   "cell_type": "code",
   "execution_count": 54,
   "id": "122d897b",
   "metadata": {
    "execution": {
     "iopub.execute_input": "2023-02-02T18:02:26.426447Z",
     "iopub.status.busy": "2023-02-02T18:02:26.426089Z",
     "iopub.status.idle": "2023-02-02T18:02:27.479143Z",
     "shell.execute_reply": "2023-02-02T18:02:27.477792Z"
    },
    "papermill": {
     "duration": 1.088401,
     "end_time": "2023-02-02T18:02:27.482396",
     "exception": false,
     "start_time": "2023-02-02T18:02:26.393995",
     "status": "completed"
    },
    "tags": []
   },
   "outputs": [
    {
     "name": "stdout",
     "output_type": "stream",
     "text": [
      "(1080750, 2)\n"
     ]
    },
    {
     "data": {
      "text/html": [
       "<div>\n",
       "<style scoped>\n",
       "    .dataframe tbody tr th:only-of-type {\n",
       "        vertical-align: middle;\n",
       "    }\n",
       "\n",
       "    .dataframe tbody tr th {\n",
       "        vertical-align: top;\n",
       "    }\n",
       "\n",
       "    .dataframe thead th {\n",
       "        text-align: right;\n",
       "    }\n",
       "</style>\n",
       "<table border=\"1\" class=\"dataframe\">\n",
       "  <thead>\n",
       "    <tr style=\"text-align: right;\">\n",
       "      <th></th>\n",
       "      <th>session_type</th>\n",
       "      <th>labels</th>\n",
       "    </tr>\n",
       "  </thead>\n",
       "  <tbody>\n",
       "    <tr>\n",
       "      <th>0</th>\n",
       "      <td>11098532_carts</td>\n",
       "      <td>876469 7651 408667 108125 932046 706003 175405...</td>\n",
       "    </tr>\n",
       "    <tr>\n",
       "      <th>1</th>\n",
       "      <td>11098532_clicks</td>\n",
       "      <td>876469 7651 108125 1402537 659399 738098 61292...</td>\n",
       "    </tr>\n",
       "    <tr>\n",
       "      <th>2</th>\n",
       "      <td>11098532_orders</td>\n",
       "      <td>876469 7651 408667 1720259 108125 669555 47668...</td>\n",
       "    </tr>\n",
       "    <tr>\n",
       "      <th>3</th>\n",
       "      <td>11098537_carts</td>\n",
       "      <td>1409748 742569 5947 1177489 358965 1627951 118...</td>\n",
       "    </tr>\n",
       "    <tr>\n",
       "      <th>4</th>\n",
       "      <td>11098537_clicks</td>\n",
       "      <td>1409748 358965 336024 1189975 742569 1744125 6...</td>\n",
       "    </tr>\n",
       "  </tbody>\n",
       "</table>\n",
       "</div>"
      ],
      "text/plain": [
       "      session_type                                             labels\n",
       "0   11098532_carts  876469 7651 408667 108125 932046 706003 175405...\n",
       "1  11098532_clicks  876469 7651 108125 1402537 659399 738098 61292...\n",
       "2  11098532_orders  876469 7651 408667 1720259 108125 669555 47668...\n",
       "3   11098537_carts  1409748 742569 5947 1177489 358965 1627951 118...\n",
       "4  11098537_clicks  1409748 358965 336024 1189975 742569 1744125 6..."
      ]
     },
     "execution_count": 54,
     "metadata": {},
     "output_type": "execute_result"
    }
   ],
   "source": [
    "submission = pd.concat([sub['clicks'], sub['carts'], sub['orders']], axis=0).reset_index(drop=True)\n",
    "submission.head()\n",
    "\n",
    "submission.columns = ['session_type','labels']\n",
    "\n",
    "submission = submission.sort_values(['session_type']).reset_index(drop=True)\n",
    "print(submission.shape)\n",
    "submission.head()"
   ]
  },
  {
   "cell_type": "markdown",
   "id": "955758fb",
   "metadata": {
    "papermill": {
     "duration": 0.031639,
     "end_time": "2023-02-02T18:02:27.598473",
     "exception": false,
     "start_time": "2023-02-02T18:02:27.566834",
     "status": "completed"
    },
    "tags": []
   },
   "source": [
    "## Score val submission"
   ]
  },
  {
   "cell_type": "code",
   "execution_count": 55,
   "id": "0d382449",
   "metadata": {
    "execution": {
     "iopub.execute_input": "2023-02-02T18:02:27.661989Z",
     "iopub.status.busy": "2023-02-02T18:02:27.661647Z",
     "iopub.status.idle": "2023-02-02T18:02:27.666953Z",
     "shell.execute_reply": "2023-02-02T18:02:27.666017Z"
    },
    "papermill": {
     "duration": 0.04028,
     "end_time": "2023-02-02T18:02:27.669603",
     "exception": false,
     "start_time": "2023-02-02T18:02:27.629323",
     "status": "completed"
    },
    "tags": []
   },
   "outputs": [
    {
     "name": "stdout",
     "output_type": "stream",
     "text": [
      "Valid num 0\n"
     ]
    }
   ],
   "source": [
    "print('Valid num', cfg.val_fold)"
   ]
  },
  {
   "cell_type": "code",
   "execution_count": 56,
   "id": "eef536b7",
   "metadata": {
    "execution": {
     "iopub.execute_input": "2023-02-02T18:02:27.733072Z",
     "iopub.status.busy": "2023-02-02T18:02:27.732797Z",
     "iopub.status.idle": "2023-02-02T18:02:54.057283Z",
     "shell.execute_reply": "2023-02-02T18:02:54.054948Z"
    },
    "papermill": {
     "duration": 26.359675,
     "end_time": "2023-02-02T18:02:54.060462",
     "exception": false,
     "start_time": "2023-02-02T18:02:27.700787",
     "status": "completed"
    },
    "tags": []
   },
   "outputs": [
    {
     "name": "stdout",
     "output_type": "stream",
     "text": [
      "clicks recall = 0.5164914958383284\n",
      "carts recall = 0.4054100888973608\n",
      "orders recall = 0.651337993250052\n",
      "=============\n",
      "Overall Recall = 0.5640749722030722\n",
      "=============\n",
      "CPU times: user 25.6 s, sys: 1.11 s, total: 26.7 s\n",
      "Wall time: 26.3 s\n"
     ]
    }
   ],
   "source": [
    "%%time\n",
    "\n",
    "try:\n",
    "    pred_df = submission\n",
    "\n",
    "    # COMPUTE METRIC\n",
    "    score = 0\n",
    "    weights = {'clicks': 0.10, 'carts': 0.30, 'orders': 0.60}\n",
    "    for t in ['clicks','carts','orders']:\n",
    "        sub = pred_df.loc[pred_df.session_type.str.contains(t)].copy()\n",
    "        sub['session'] = sub.session_type.apply(lambda x: int(x.split('_')[0]))\n",
    "        sub.labels = sub.labels.apply(lambda x: [int(i) for i in x.split(' ')[:20]])\n",
    "        val_labels = pd.read_parquet(train_labels_path)\n",
    "        val_labels = val_labels.loc[val_labels['type']==t]\n",
    "\n",
    "        val_labels = pd.merge(val_labels, df_fold.to_pandas(), on='session')\n",
    "        val_labels = val_labels.loc[val_labels.fold == cfg.val_fold]\n",
    "        del val_labels['fold']\n",
    "\n",
    "        val_labels = val_labels.merge(sub, how='left', on=['session'])\n",
    "#         display(val_labels)\n",
    "        val_labels['hits'] = val_labels.apply(lambda df: len(set(df.ground_truth).intersection(set(df.labels))), axis=1)\n",
    "        val_labels['gt_count'] = val_labels.ground_truth.str.len().clip(0,20)\n",
    "        recall = val_labels['hits'].sum() / val_labels['gt_count'].sum()\n",
    "        score += weights[t]*recall\n",
    "        print(f'{t} recall =',recall)\n",
    "\n",
    "    print('=============')\n",
    "    print('Overall Recall =',score)\n",
    "    print('=============')\n",
    "except Exception as e:\n",
    "    print('Exception:')\n",
    "    print(e)"
   ]
  },
  {
   "cell_type": "code",
   "execution_count": 57,
   "id": "ca08a746",
   "metadata": {
    "execution": {
     "iopub.execute_input": "2023-02-02T18:02:54.127308Z",
     "iopub.status.busy": "2023-02-02T18:02:54.126982Z",
     "iopub.status.idle": "2023-02-02T18:02:54.555065Z",
     "shell.execute_reply": "2023-02-02T18:02:54.553915Z"
    },
    "papermill": {
     "duration": 0.463481,
     "end_time": "2023-02-02T18:02:54.557597",
     "exception": false,
     "start_time": "2023-02-02T18:02:54.094116",
     "status": "completed"
    },
    "tags": []
   },
   "outputs": [
    {
     "data": {
      "text/plain": [
       "59"
      ]
     },
     "execution_count": 57,
     "metadata": {},
     "output_type": "execute_result"
    }
   ],
   "source": [
    "try:\n",
    "    del model, df, predictions, preds, val_labels, pred_df\n",
    "except Exception as e:\n",
    "    print(e)\n",
    "gc.collect()"
   ]
  },
  {
   "cell_type": "markdown",
   "id": "dab95f10",
   "metadata": {
    "papermill": {
     "duration": 0.033478,
     "end_time": "2023-02-02T18:02:54.631448",
     "exception": false,
     "start_time": "2023-02-02T18:02:54.597970",
     "status": "completed"
    },
    "tags": []
   },
   "source": [
    "# Predict on test data"
   ]
  },
  {
   "cell_type": "code",
   "execution_count": 58,
   "id": "04a3b57b",
   "metadata": {
    "execution": {
     "iopub.execute_input": "2023-02-02T18:02:54.697296Z",
     "iopub.status.busy": "2023-02-02T18:02:54.696945Z",
     "iopub.status.idle": "2023-02-02T18:02:54.702138Z",
     "shell.execute_reply": "2023-02-02T18:02:54.701158Z"
    },
    "papermill": {
     "duration": 0.041674,
     "end_time": "2023-02-02T18:02:54.705168",
     "exception": false,
     "start_time": "2023-02-02T18:02:54.663494",
     "status": "completed"
    },
    "tags": []
   },
   "outputs": [
    {
     "name": "stdout",
     "output_type": "stream",
     "text": [
      "Create test submission:\n"
     ]
    }
   ],
   "source": [
    "print('Create test submission:')"
   ]
  },
  {
   "cell_type": "markdown",
   "id": "37a1d1e7",
   "metadata": {
    "papermill": {
     "duration": 0.031891,
     "end_time": "2023-02-02T18:02:54.769969",
     "exception": false,
     "start_time": "2023-02-02T18:02:54.738078",
     "status": "completed"
    },
    "tags": []
   },
   "source": [
    "## Predict"
   ]
  },
  {
   "cell_type": "code",
   "execution_count": 59,
   "id": "83e543ec",
   "metadata": {
    "execution": {
     "iopub.execute_input": "2023-02-02T18:02:54.838751Z",
     "iopub.status.busy": "2023-02-02T18:02:54.837360Z",
     "iopub.status.idle": "2023-02-02T18:02:54.843965Z",
     "shell.execute_reply": "2023-02-02T18:02:54.843150Z"
    },
    "papermill": {
     "duration": 0.04457,
     "end_time": "2023-02-02T18:02:54.847005",
     "exception": false,
     "start_time": "2023-02-02T18:02:54.802435",
     "status": "completed"
    },
    "tags": []
   },
   "outputs": [
    {
     "name": "stdout",
     "output_type": "stream",
     "text": [
      "Test folds [0, 1, 2, 3, 4]\n"
     ]
    }
   ],
   "source": [
    "print('Test folds', cfg.test_folds)"
   ]
  },
  {
   "cell_type": "code",
   "execution_count": 60,
   "id": "c8f7c1bd",
   "metadata": {
    "execution": {
     "iopub.execute_input": "2023-02-02T18:02:54.947465Z",
     "iopub.status.busy": "2023-02-02T18:02:54.947081Z",
     "iopub.status.idle": "2023-02-02T18:04:00.356012Z",
     "shell.execute_reply": "2023-02-02T18:04:00.354987Z"
    },
    "papermill": {
     "duration": 65.484793,
     "end_time": "2023-02-02T18:04:00.391919",
     "exception": false,
     "start_time": "2023-02-02T18:02:54.907126",
     "status": "completed"
    },
    "tags": []
   },
   "outputs": [
    {
     "name": "stdout",
     "output_type": "stream",
     "text": [
      "{'clicks': 62791052, 'carts': 66302616, 'orders': 65922226}\n"
     ]
    }
   ],
   "source": [
    "# Calc length of test files, it is needed in calculating predictions\n",
    "\n",
    "len_test = {}\n",
    "for ev in ['clicks', 'carts', 'orders']:\n",
    "    len_test[ev] = 0\n",
    "    for f in test_candidates_files[ev]:\n",
    "        df = cudf.read_parquet(f)\n",
    "        len_test[ev] += len(df)\n",
    "print(len_test)"
   ]
  },
  {
   "cell_type": "code",
   "execution_count": 61,
   "id": "be958cf5",
   "metadata": {
    "execution": {
     "iopub.execute_input": "2023-02-02T18:04:00.457644Z",
     "iopub.status.busy": "2023-02-02T18:04:00.457256Z",
     "iopub.status.idle": "2023-02-02T18:05:38.011192Z",
     "shell.execute_reply": "2023-02-02T18:05:38.010012Z"
    },
    "papermill": {
     "duration": 97.589945,
     "end_time": "2023-02-02T18:05:38.014275",
     "exception": false,
     "start_time": "2023-02-02T18:04:00.424330",
     "status": "completed"
    },
    "tags": []
   },
   "outputs": [
    {
     "name": "stdout",
     "output_type": "stream",
     "text": [
      "clicks\n",
      "Fold 0 \n",
      "Fold 1 \n",
      "Fold 2 \n",
      "Fold 3 \n",
      "Fold 4 \n",
      "\n",
      "carts\n",
      "Fold 0 \n",
      "Fold 1 \n",
      "Fold 2 \n",
      "Fold 3 \n",
      "Fold 4 \n",
      "\n",
      "orders\n",
      "Fold 0 \n",
      "Fold 1 \n",
      "Fold 2 \n",
      "Fold 3 \n",
      "Fold 4 \n",
      "\n"
     ]
    }
   ],
   "source": [
    "events_names = ['clicks', 'carts', 'orders']\n",
    "\n",
    "preds = {}\n",
    "for event_name in events_names:\n",
    "    print(event_name)\n",
    "    preds[event_name] = np.zeros(len_test[event_name])\n",
    "    \n",
    "    for valid_fold_num in cfg.test_folds:\n",
    "        print('Fold', valid_fold_num, end=' ')\n",
    "        \n",
    "        model = xgb.Booster()\n",
    "        model.load_model(f'XGB_fold{valid_fold_num}_{event_name}.xgb')\n",
    "        model.set_param({'predictor': 'gpu_predictor'})\n",
    "\n",
    "        preds_chunk = []\n",
    "        for f in test_candidates_files[event_name]:\n",
    "            \n",
    "            test = cudf.read_parquet(f)\n",
    "            test = test.sort_values('session')\n",
    "            groups = test.groupby('session').size().to_frame('size')['size']\n",
    "            dtest = xgb.DMatrix(data=test[feature_cols[event_name]], group=groups)\n",
    "            \n",
    "            preds_chunk.append(model.predict(dtest))\n",
    "            del dtest\n",
    "\n",
    "        preds[event_name] += np.concatenate(preds_chunk, axis=None) / len(cfg.test_folds)\n",
    "        print()\n",
    "    \n",
    "    np.save(f'preds_{event_name}.npy', preds[event_name])\n",
    "    print()"
   ]
  },
  {
   "cell_type": "code",
   "execution_count": 62,
   "id": "8cf3b9bb",
   "metadata": {
    "execution": {
     "iopub.execute_input": "2023-02-02T18:05:38.083470Z",
     "iopub.status.busy": "2023-02-02T18:05:38.083145Z",
     "iopub.status.idle": "2023-02-02T18:05:38.088206Z",
     "shell.execute_reply": "2023-02-02T18:05:38.087384Z"
    },
    "papermill": {
     "duration": 0.041079,
     "end_time": "2023-02-02T18:05:38.090207",
     "exception": false,
     "start_time": "2023-02-02T18:05:38.049128",
     "status": "completed"
    },
    "tags": []
   },
   "outputs": [],
   "source": [
    "# preds={}\n",
    "# preds['clicks'] = np.load('/kaggle/working/preds_clicks.npy')\n",
    "# preds['carts'] = np.load('/kaggle/working/preds_carts.npy')\n",
    "# preds['orders'] = np.load('/kaggle/working/preds_orders.npy')"
   ]
  },
  {
   "cell_type": "code",
   "execution_count": 63,
   "id": "d7b1b57a",
   "metadata": {
    "execution": {
     "iopub.execute_input": "2023-02-02T18:05:38.157714Z",
     "iopub.status.busy": "2023-02-02T18:05:38.157413Z",
     "iopub.status.idle": "2023-02-02T18:05:38.382929Z",
     "shell.execute_reply": "2023-02-02T18:05:38.382025Z"
    },
    "papermill": {
     "duration": 0.261587,
     "end_time": "2023-02-02T18:05:38.385164",
     "exception": false,
     "start_time": "2023-02-02T18:05:38.123577",
     "status": "completed"
    },
    "tags": []
   },
   "outputs": [
    {
     "data": {
      "image/png": "[encoded data removed]",
      "text/plain": [
       "<Figure size 864x288 with 1 Axes>"
      ]
     },
     "metadata": {
      "needs_background": "light"
     },
     "output_type": "display_data"
    }
   ],
   "source": [
    "plot_gpu_usage()"
   ]
  },
  {
   "cell_type": "markdown",
   "id": "52dc175f",
   "metadata": {
    "papermill": {
     "duration": 0.042768,
     "end_time": "2023-02-02T18:05:38.484495",
     "exception": false,
     "start_time": "2023-02-02T18:05:38.441727",
     "status": "completed"
    },
    "tags": []
   },
   "source": [
    "# Create submission"
   ]
  },
  {
   "cell_type": "code",
   "execution_count": 64,
   "id": "3728777c",
   "metadata": {
    "execution": {
     "iopub.execute_input": "2023-02-02T18:05:38.552908Z",
     "iopub.status.busy": "2023-02-02T18:05:38.552553Z",
     "iopub.status.idle": "2023-02-02T18:05:38.558673Z",
     "shell.execute_reply": "2023-02-02T18:05:38.557540Z"
    },
    "papermill": {
     "duration": 0.042823,
     "end_time": "2023-02-02T18:05:38.560734",
     "exception": false,
     "start_time": "2023-02-02T18:05:38.517911",
     "status": "completed"
    },
    "tags": []
   },
   "outputs": [],
   "source": [
    "def get_test_data(event):\n",
    "    test_data = cudf.DataFrame()\n",
    "    for f in test_candidates_files[event]:\n",
    "        test_data = cudf.concat([test_data, cudf.read_parquet(f).sort_values('session')], ignore_index=True)\n",
    "    test_data = test_data.reset_index(drop=True)\n",
    "    test_data['session'] = test_data['session'].astype('int32')\n",
    "    test_data['aid'] = test_data['aid'].astype('int32')\n",
    "    return test_data"
   ]
  },
  {
   "cell_type": "code",
   "execution_count": 65,
   "id": "8d48563e",
   "metadata": {
    "execution": {
     "iopub.execute_input": "2023-02-02T18:05:38.628402Z",
     "iopub.status.busy": "2023-02-02T18:05:38.628090Z",
     "iopub.status.idle": "2023-02-02T18:08:07.674542Z",
     "shell.execute_reply": "2023-02-02T18:08:07.673464Z"
    },
    "papermill": {
     "duration": 149.083196,
     "end_time": "2023-02-02T18:08:07.677122",
     "exception": false,
     "start_time": "2023-02-02T18:05:38.593926",
     "status": "completed"
    },
    "tags": []
   },
   "outputs": [
    {
     "name": "stdout",
     "output_type": "stream",
     "text": [
      "clicks\n"
     ]
    },
    {
     "name": "stderr",
     "output_type": "stream",
     "text": [
      "/opt/conda/lib/python3.7/site-packages/cudf/core/frame.py:2600: UserWarning: When using a sequence of booleans for `ascending`, `na_position` flag is not yet supported and defaults to treating nulls as greater than all numbers\n",
      "  \"When using a sequence of booleans for `ascending`, \"\n"
     ]
    },
    {
     "name": "stdout",
     "output_type": "stream",
     "text": [
      "1,671,803\n"
     ]
    },
    {
     "data": {
      "text/html": [
       "<div>\n",
       "<style scoped>\n",
       "    .dataframe tbody tr th:only-of-type {\n",
       "        vertical-align: middle;\n",
       "    }\n",
       "\n",
       "    .dataframe tbody tr th {\n",
       "        vertical-align: top;\n",
       "    }\n",
       "\n",
       "    .dataframe thead th {\n",
       "        text-align: right;\n",
       "    }\n",
       "</style>\n",
       "<table border=\"1\" class=\"dataframe\">\n",
       "  <thead>\n",
       "    <tr style=\"text-align: right;\">\n",
       "      <th></th>\n",
       "      <th>session</th>\n",
       "      <th>aid</th>\n",
       "    </tr>\n",
       "  </thead>\n",
       "  <tbody>\n",
       "    <tr>\n",
       "      <th>0</th>\n",
       "      <td>12899779</td>\n",
       "      <td>59625 1253524 737445 339846 94230 1138236 7316...</td>\n",
       "    </tr>\n",
       "  </tbody>\n",
       "</table>\n",
       "</div>"
      ],
      "text/plain": [
       "    session                                                aid\n",
       "0  12899779  59625 1253524 737445 339846 94230 1138236 7316..."
      ]
     },
     "metadata": {},
     "output_type": "display_data"
    },
    {
     "name": "stdout",
     "output_type": "stream",
     "text": [
      "carts\n"
     ]
    },
    {
     "name": "stderr",
     "output_type": "stream",
     "text": [
      "/opt/conda/lib/python3.7/site-packages/cudf/core/frame.py:2600: UserWarning: When using a sequence of booleans for `ascending`, `na_position` flag is not yet supported and defaults to treating nulls as greater than all numbers\n",
      "  \"When using a sequence of booleans for `ascending`, \"\n"
     ]
    },
    {
     "name": "stdout",
     "output_type": "stream",
     "text": [
      "1,671,803\n"
     ]
    },
    {
     "data": {
      "text/html": [
       "<div>\n",
       "<style scoped>\n",
       "    .dataframe tbody tr th:only-of-type {\n",
       "        vertical-align: middle;\n",
       "    }\n",
       "\n",
       "    .dataframe tbody tr th {\n",
       "        vertical-align: top;\n",
       "    }\n",
       "\n",
       "    .dataframe thead th {\n",
       "        text-align: right;\n",
       "    }\n",
       "</style>\n",
       "<table border=\"1\" class=\"dataframe\">\n",
       "  <thead>\n",
       "    <tr style=\"text-align: right;\">\n",
       "      <th></th>\n",
       "      <th>session</th>\n",
       "      <th>aid</th>\n",
       "    </tr>\n",
       "  </thead>\n",
       "  <tbody>\n",
       "    <tr>\n",
       "      <th>0</th>\n",
       "      <td>12899779</td>\n",
       "      <td>59625 731692 1253524 1790770 448688 469285 637...</td>\n",
       "    </tr>\n",
       "  </tbody>\n",
       "</table>\n",
       "</div>"
      ],
      "text/plain": [
       "    session                                                aid\n",
       "0  12899779  59625 731692 1253524 1790770 448688 469285 637..."
      ]
     },
     "metadata": {},
     "output_type": "display_data"
    },
    {
     "name": "stdout",
     "output_type": "stream",
     "text": [
      "orders\n"
     ]
    },
    {
     "name": "stderr",
     "output_type": "stream",
     "text": [
      "/opt/conda/lib/python3.7/site-packages/cudf/core/frame.py:2600: UserWarning: When using a sequence of booleans for `ascending`, `na_position` flag is not yet supported and defaults to treating nulls as greater than all numbers\n",
      "  \"When using a sequence of booleans for `ascending`, \"\n"
     ]
    },
    {
     "name": "stdout",
     "output_type": "stream",
     "text": [
      "1,671,803\n"
     ]
    },
    {
     "data": {
      "text/html": [
       "<div>\n",
       "<style scoped>\n",
       "    .dataframe tbody tr th:only-of-type {\n",
       "        vertical-align: middle;\n",
       "    }\n",
       "\n",
       "    .dataframe tbody tr th {\n",
       "        vertical-align: top;\n",
       "    }\n",
       "\n",
       "    .dataframe thead th {\n",
       "        text-align: right;\n",
       "    }\n",
       "</style>\n",
       "<table border=\"1\" class=\"dataframe\">\n",
       "  <thead>\n",
       "    <tr style=\"text-align: right;\">\n",
       "      <th></th>\n",
       "      <th>session</th>\n",
       "      <th>aid</th>\n",
       "    </tr>\n",
       "  </thead>\n",
       "  <tbody>\n",
       "    <tr>\n",
       "      <th>0</th>\n",
       "      <td>12899779</td>\n",
       "      <td>59625 731692 1253524 1790770 737445 448688 696...</td>\n",
       "    </tr>\n",
       "  </tbody>\n",
       "</table>\n",
       "</div>"
      ],
      "text/plain": [
       "    session                                                aid\n",
       "0  12899779  59625 731692 1253524 1790770 737445 448688 696..."
      ]
     },
     "metadata": {},
     "output_type": "display_data"
    }
   ],
   "source": [
    "events_names = ['clicks', 'carts', 'orders']\n",
    "# events_names = ['clicks']\n",
    "\n",
    "predictions = {}\n",
    "sub = {}\n",
    "for event_name in events_names:\n",
    "    print(event_name)\n",
    "\n",
    "    # Add predictions to test dataframe\n",
    "    \n",
    "    predictions[event_name] = get_test_data(event_name)[['session','aid']]\n",
    "    # print(predictions[event_name].session.nunique())    \n",
    "\n",
    "    predictions[event_name]['pred'] = preds[event_name]\n",
    "\n",
    "    # Pick top 20 predictions\n",
    "\n",
    "    predictions[event_name] = predictions[event_name].sort_values(['session','pred'], ascending=[True,False]).reset_index(drop=True)\n",
    "    predictions[event_name]['n'] = predictions[event_name].groupby('session').aid.cumcount().astype('int8')\n",
    "    predictions[event_name] = predictions[event_name].loc[predictions[event_name].n<20]\n",
    "    del predictions[event_name]['pred']\n",
    "    del predictions[event_name]['n']\n",
    "    # print(predictions[event_name].shape)\n",
    "    # display(predictions[event_name].head())\n",
    "\n",
    "    # Transform (session,aid) pairs to (session,string of all aids) pairs\n",
    "\n",
    "    predictions[event_name] = predictions[event_name].to_pandas() # it is faster to do next functions in pandas then in cudf\n",
    "    sub[event_name] = predictions[event_name].groupby('session').aid.apply(list)\n",
    "    del predictions[event_name]\n",
    "    sub[event_name] = sub[event_name].to_frame().reset_index()\n",
    "    sub[event_name].aid = sub[event_name].aid.apply(lambda x: \" \".join(map(str,x)))\n",
    "    preview_df(sub[event_name])\n",
    "\n",
    "    # Add session type for each session num\n",
    "    to_add_str = '_' + event_name\n",
    "    sub[event_name]['session'] = sub[event_name].session.astype('str') + to_add_str\n",
    "\n",
    "    gc.collect()\n",
    "    time.sleep(2)"
   ]
  },
  {
   "cell_type": "code",
   "execution_count": 66,
   "id": "936e6e05",
   "metadata": {
    "execution": {
     "iopub.execute_input": "2023-02-02T18:08:07.759985Z",
     "iopub.status.busy": "2023-02-02T18:08:07.759538Z",
     "iopub.status.idle": "2023-02-02T18:08:07.979157Z",
     "shell.execute_reply": "2023-02-02T18:08:07.978225Z"
    },
    "papermill": {
     "duration": 0.268663,
     "end_time": "2023-02-02T18:08:07.981103",
     "exception": false,
     "start_time": "2023-02-02T18:08:07.712440",
     "status": "completed"
    },
    "tags": []
   },
   "outputs": [
    {
     "data": {
      "image/png": "[encoded data removed]",
      "text/plain": [
       "<Figure size 864x288 with 1 Axes>"
      ]
     },
     "metadata": {
      "needs_background": "light"
     },
     "output_type": "display_data"
    }
   ],
   "source": [
    "plot_gpu_usage(5)"
   ]
  },
  {
   "cell_type": "markdown",
   "id": "98c2b59e",
   "metadata": {
    "papermill": {
     "duration": 0.033888,
     "end_time": "2023-02-02T18:08:08.050308",
     "exception": false,
     "start_time": "2023-02-02T18:08:08.016420",
     "status": "completed"
    },
    "tags": []
   },
   "source": [
    "* Concatenate all event types"
   ]
  },
  {
   "cell_type": "code",
   "execution_count": 67,
   "id": "710c9814",
   "metadata": {
    "execution": {
     "iopub.execute_input": "2023-02-02T18:08:08.120218Z",
     "iopub.status.busy": "2023-02-02T18:08:08.119558Z",
     "iopub.status.idle": "2023-02-02T18:08:13.846930Z",
     "shell.execute_reply": "2023-02-02T18:08:13.845926Z"
    },
    "papermill": {
     "duration": 5.764547,
     "end_time": "2023-02-02T18:08:13.848922",
     "exception": false,
     "start_time": "2023-02-02T18:08:08.084375",
     "status": "completed"
    },
    "tags": []
   },
   "outputs": [
    {
     "name": "stdout",
     "output_type": "stream",
     "text": [
      "5,015,409\n"
     ]
    },
    {
     "data": {
      "text/html": [
       "<div>\n",
       "<style scoped>\n",
       "    .dataframe tbody tr th:only-of-type {\n",
       "        vertical-align: middle;\n",
       "    }\n",
       "\n",
       "    .dataframe tbody tr th {\n",
       "        vertical-align: top;\n",
       "    }\n",
       "\n",
       "    .dataframe thead th {\n",
       "        text-align: right;\n",
       "    }\n",
       "</style>\n",
       "<table border=\"1\" class=\"dataframe\">\n",
       "  <thead>\n",
       "    <tr style=\"text-align: right;\">\n",
       "      <th></th>\n",
       "      <th>session_type</th>\n",
       "      <th>labels</th>\n",
       "    </tr>\n",
       "  </thead>\n",
       "  <tbody>\n",
       "    <tr>\n",
       "      <th>0</th>\n",
       "      <td>12899779_carts</td>\n",
       "      <td>59625 731692 1253524 1790770 448688 469285 637...</td>\n",
       "    </tr>\n",
       "    <tr>\n",
       "      <th>1</th>\n",
       "      <td>12899779_clicks</td>\n",
       "      <td>59625 1253524 737445 339846 94230 1138236 7316...</td>\n",
       "    </tr>\n",
       "    <tr>\n",
       "      <th>2</th>\n",
       "      <td>12899779_orders</td>\n",
       "      <td>59625 731692 1253524 1790770 737445 448688 696...</td>\n",
       "    </tr>\n",
       "    <tr>\n",
       "      <th>3</th>\n",
       "      <td>12899780_carts</td>\n",
       "      <td>736515 582732 973453 1142000 1758603 487136 10...</td>\n",
       "    </tr>\n",
       "    <tr>\n",
       "      <th>4</th>\n",
       "      <td>12899780_clicks</td>\n",
       "      <td>1142000 973453 736515 582732 487136 1758603 88...</td>\n",
       "    </tr>\n",
       "  </tbody>\n",
       "</table>\n",
       "</div>"
      ],
      "text/plain": [
       "      session_type                                             labels\n",
       "0   12899779_carts  59625 731692 1253524 1790770 448688 469285 637...\n",
       "1  12899779_clicks  59625 1253524 737445 339846 94230 1138236 7316...\n",
       "2  12899779_orders  59625 731692 1253524 1790770 737445 448688 696...\n",
       "3   12899780_carts  736515 582732 973453 1142000 1758603 487136 10...\n",
       "4  12899780_clicks  1142000 973453 736515 582732 487136 1758603 88..."
      ]
     },
     "metadata": {},
     "output_type": "display_data"
    }
   ],
   "source": [
    "submission = pd.concat([sub['clicks'], sub['carts'], sub['orders']], axis=0).reset_index(drop=True)\n",
    "submission.columns = ['session_type','labels']\n",
    "submission = submission.sort_values(['session_type']).reset_index(drop=True)\n",
    "preview_df(submission, 5)"
   ]
  },
  {
   "cell_type": "markdown",
   "id": "b1a5cc05",
   "metadata": {
    "papermill": {
     "duration": 0.034293,
     "end_time": "2023-02-02T18:08:13.919413",
     "exception": false,
     "start_time": "2023-02-02T18:08:13.885120",
     "status": "completed"
    },
    "tags": []
   },
   "source": [
    "* Save submission as csv"
   ]
  },
  {
   "cell_type": "code",
   "execution_count": 68,
   "id": "cb19aebf",
   "metadata": {
    "execution": {
     "iopub.execute_input": "2023-02-02T18:08:14.021946Z",
     "iopub.status.busy": "2023-02-02T18:08:14.021587Z",
     "iopub.status.idle": "2023-02-02T18:08:30.050480Z",
     "shell.execute_reply": "2023-02-02T18:08:30.049324Z"
    },
    "papermill": {
     "duration": 16.08237,
     "end_time": "2023-02-02T18:08:30.052897",
     "exception": false,
     "start_time": "2023-02-02T18:08:13.970527",
     "status": "completed"
    },
    "tags": []
   },
   "outputs": [],
   "source": [
    "submission.to_csv('submission.csv', index=False)"
   ]
  },
  {
   "cell_type": "code",
   "execution_count": 69,
   "id": "f67a9c10",
   "metadata": {
    "execution": {
     "iopub.execute_input": "2023-02-02T18:08:30.124570Z",
     "iopub.status.busy": "2023-02-02T18:08:30.124201Z",
     "iopub.status.idle": "2023-02-02T18:08:30.136121Z",
     "shell.execute_reply": "2023-02-02T18:08:30.135109Z"
    },
    "papermill": {
     "duration": 0.051043,
     "end_time": "2023-02-02T18:08:30.139270",
     "exception": false,
     "start_time": "2023-02-02T18:08:30.088227",
     "status": "completed"
    },
    "tags": []
   },
   "outputs": [
    {
     "data": {
      "text/html": [
       "<div>\n",
       "<style scoped>\n",
       "    .dataframe tbody tr th:only-of-type {\n",
       "        vertical-align: middle;\n",
       "    }\n",
       "\n",
       "    .dataframe tbody tr th {\n",
       "        vertical-align: top;\n",
       "    }\n",
       "\n",
       "    .dataframe thead th {\n",
       "        text-align: right;\n",
       "    }\n",
       "</style>\n",
       "<table border=\"1\" class=\"dataframe\">\n",
       "  <thead>\n",
       "    <tr style=\"text-align: right;\">\n",
       "      <th></th>\n",
       "      <th>session_type</th>\n",
       "      <th>labels</th>\n",
       "    </tr>\n",
       "  </thead>\n",
       "  <tbody>\n",
       "    <tr>\n",
       "      <th>0</th>\n",
       "      <td>12899779_carts</td>\n",
       "      <td>59625 731692 1253524 1790770 448688 469285 637...</td>\n",
       "    </tr>\n",
       "    <tr>\n",
       "      <th>1</th>\n",
       "      <td>12899779_clicks</td>\n",
       "      <td>59625 1253524 737445 339846 94230 1138236 7316...</td>\n",
       "    </tr>\n",
       "    <tr>\n",
       "      <th>2</th>\n",
       "      <td>12899779_orders</td>\n",
       "      <td>59625 731692 1253524 1790770 737445 448688 696...</td>\n",
       "    </tr>\n",
       "    <tr>\n",
       "      <th>3</th>\n",
       "      <td>12899780_carts</td>\n",
       "      <td>736515 582732 973453 1142000 1758603 487136 10...</td>\n",
       "    </tr>\n",
       "    <tr>\n",
       "      <th>4</th>\n",
       "      <td>12899780_clicks</td>\n",
       "      <td>1142000 973453 736515 582732 487136 1758603 88...</td>\n",
       "    </tr>\n",
       "    <tr>\n",
       "      <th>...</th>\n",
       "      <td>...</td>\n",
       "      <td>...</td>\n",
       "    </tr>\n",
       "    <tr>\n",
       "      <th>5015404</th>\n",
       "      <td>14571580_clicks</td>\n",
       "      <td>202353 1314576 433425 871658 1231403 925638 67...</td>\n",
       "    </tr>\n",
       "    <tr>\n",
       "      <th>5015405</th>\n",
       "      <td>14571580_orders</td>\n",
       "      <td>202353 888228 387358 891417 904620 985380 3560...</td>\n",
       "    </tr>\n",
       "    <tr>\n",
       "      <th>5015406</th>\n",
       "      <td>14571581_carts</td>\n",
       "      <td>1100210 1392029 622489 1684953 940217 1550662 ...</td>\n",
       "    </tr>\n",
       "    <tr>\n",
       "      <th>5015407</th>\n",
       "      <td>14571581_clicks</td>\n",
       "      <td>1100210 1684953 462056 1158237 1401429 622489 ...</td>\n",
       "    </tr>\n",
       "    <tr>\n",
       "      <th>5015408</th>\n",
       "      <td>14571581_orders</td>\n",
       "      <td>1100210 622489 1392029 1401429 940217 174670 1...</td>\n",
       "    </tr>\n",
       "  </tbody>\n",
       "</table>\n",
       "<p>5015409 rows × 2 columns</p>\n",
       "</div>"
      ],
      "text/plain": [
       "            session_type                                             labels\n",
       "0         12899779_carts  59625 731692 1253524 1790770 448688 469285 637...\n",
       "1        12899779_clicks  59625 1253524 737445 339846 94230 1138236 7316...\n",
       "2        12899779_orders  59625 731692 1253524 1790770 737445 448688 696...\n",
       "3         12899780_carts  736515 582732 973453 1142000 1758603 487136 10...\n",
       "4        12899780_clicks  1142000 973453 736515 582732 487136 1758603 88...\n",
       "...                  ...                                                ...\n",
       "5015404  14571580_clicks  202353 1314576 433425 871658 1231403 925638 67...\n",
       "5015405  14571580_orders  202353 888228 387358 891417 904620 985380 3560...\n",
       "5015406   14571581_carts  1100210 1392029 622489 1684953 940217 1550662 ...\n",
       "5015407  14571581_clicks  1100210 1684953 462056 1158237 1401429 622489 ...\n",
       "5015408  14571581_orders  1100210 622489 1392029 1401429 940217 174670 1...\n",
       "\n",
       "[5015409 rows x 2 columns]"
      ]
     },
     "metadata": {},
     "output_type": "display_data"
    }
   ],
   "source": [
    "display(submission)"
   ]
  },
  {
   "cell_type": "code",
   "execution_count": null,
   "id": "a9ac0d15",
   "metadata": {
    "papermill": {
     "duration": 0.034447,
     "end_time": "2023-02-02T18:08:30.208805",
     "exception": false,
     "start_time": "2023-02-02T18:08:30.174358",
     "status": "completed"
    },
    "tags": []
   },
   "outputs": [],
   "source": []
  }
 ],
 "metadata": {
  "kernelspec": {
   "display_name": "Python 3",
   "language": "python",
   "name": "python3"
  },
  "language_info": {
   "codemirror_mode": {
    "name": "ipython",
    "version": 3
   },
   "file_extension": ".py",
   "mimetype": "text/x-python",
   "name": "python",
   "nbconvert_exporter": "python",
   "pygments_lexer": "ipython3",
   "version": "3.7.12"
  },
  "papermill": {
   "default_parameters": {},
   "duration": 688.137718,
   "end_time": "2023-02-02T18:08:33.265546",
   "environment_variables": {},
   "exception": null,
   "input_path": "__notebook__.ipynb",
   "output_path": "__notebook__.ipynb",
   "parameters": {},
   "start_time": "2023-02-02T17:57:05.127828",
   "version": "2.3.4"
  }
 },
 "nbformat": 4,
 "nbformat_minor": 5
}
